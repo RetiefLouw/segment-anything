{
 "cells": [
  {
   "cell_type": "code",
   "execution_count": 7,
   "metadata": {},
   "outputs": [
    {
     "name": "stdout",
     "output_type": "stream",
     "text": [
      "Requirement already satisfied: pandas in /home/retief/git/segment-anything/myenv/lib/python3.11/site-packages (2.2.2)\n",
      "Requirement already satisfied: numpy>=1.23.2 in /home/retief/git/segment-anything/myenv/lib/python3.11/site-packages (from pandas) (2.0.1)\n",
      "Requirement already satisfied: python-dateutil>=2.8.2 in /home/retief/git/segment-anything/myenv/lib/python3.11/site-packages (from pandas) (2.9.0.post0)\n",
      "Requirement already satisfied: pytz>=2020.1 in /home/retief/git/segment-anything/myenv/lib/python3.11/site-packages (from pandas) (2024.1)\n",
      "Requirement already satisfied: tzdata>=2022.7 in /home/retief/git/segment-anything/myenv/lib/python3.11/site-packages (from pandas) (2024.1)\n",
      "Requirement already satisfied: six>=1.5 in /home/retief/git/segment-anything/myenv/lib/python3.11/site-packages (from python-dateutil>=2.8.2->pandas) (1.16.0)\n",
      "\n",
      "\u001b[1m[\u001b[0m\u001b[34;49mnotice\u001b[0m\u001b[1;39;49m]\u001b[0m\u001b[39;49m A new release of pip is available: \u001b[0m\u001b[31;49m23.2.1\u001b[0m\u001b[39;49m -> \u001b[0m\u001b[32;49m24.2\u001b[0m\n",
      "\u001b[1m[\u001b[0m\u001b[34;49mnotice\u001b[0m\u001b[1;39;49m]\u001b[0m\u001b[39;49m To update, run: \u001b[0m\u001b[32;49mpip install --upgrade pip\u001b[0m\n",
      "Note: you may need to restart the kernel to use updated packages.\n",
      "Requirement already satisfied: seaborn in /home/retief/git/segment-anything/myenv/lib/python3.11/site-packages (0.13.2)\n",
      "Requirement already satisfied: numpy!=1.24.0,>=1.20 in /home/retief/git/segment-anything/myenv/lib/python3.11/site-packages (from seaborn) (2.0.1)\n",
      "Requirement already satisfied: pandas>=1.2 in /home/retief/git/segment-anything/myenv/lib/python3.11/site-packages (from seaborn) (2.2.2)\n",
      "Requirement already satisfied: matplotlib!=3.6.1,>=3.4 in /home/retief/git/segment-anything/myenv/lib/python3.11/site-packages (from seaborn) (3.9.2)\n",
      "Requirement already satisfied: contourpy>=1.0.1 in /home/retief/git/segment-anything/myenv/lib/python3.11/site-packages (from matplotlib!=3.6.1,>=3.4->seaborn) (1.2.1)\n",
      "Requirement already satisfied: cycler>=0.10 in /home/retief/git/segment-anything/myenv/lib/python3.11/site-packages (from matplotlib!=3.6.1,>=3.4->seaborn) (0.12.1)\n",
      "Requirement already satisfied: fonttools>=4.22.0 in /home/retief/git/segment-anything/myenv/lib/python3.11/site-packages (from matplotlib!=3.6.1,>=3.4->seaborn) (4.53.1)\n",
      "Requirement already satisfied: kiwisolver>=1.3.1 in /home/retief/git/segment-anything/myenv/lib/python3.11/site-packages (from matplotlib!=3.6.1,>=3.4->seaborn) (1.4.5)\n",
      "Requirement already satisfied: packaging>=20.0 in /home/retief/git/segment-anything/myenv/lib/python3.11/site-packages (from matplotlib!=3.6.1,>=3.4->seaborn) (24.1)\n",
      "Requirement already satisfied: pillow>=8 in /home/retief/git/segment-anything/myenv/lib/python3.11/site-packages (from matplotlib!=3.6.1,>=3.4->seaborn) (10.4.0)\n",
      "Requirement already satisfied: pyparsing>=2.3.1 in /home/retief/git/segment-anything/myenv/lib/python3.11/site-packages (from matplotlib!=3.6.1,>=3.4->seaborn) (3.1.2)\n",
      "Requirement already satisfied: python-dateutil>=2.7 in /home/retief/git/segment-anything/myenv/lib/python3.11/site-packages (from matplotlib!=3.6.1,>=3.4->seaborn) (2.9.0.post0)\n",
      "Requirement already satisfied: pytz>=2020.1 in /home/retief/git/segment-anything/myenv/lib/python3.11/site-packages (from pandas>=1.2->seaborn) (2024.1)\n",
      "Requirement already satisfied: tzdata>=2022.7 in /home/retief/git/segment-anything/myenv/lib/python3.11/site-packages (from pandas>=1.2->seaborn) (2024.1)\n",
      "Requirement already satisfied: six>=1.5 in /home/retief/git/segment-anything/myenv/lib/python3.11/site-packages (from python-dateutil>=2.7->matplotlib!=3.6.1,>=3.4->seaborn) (1.16.0)\n",
      "\n",
      "\u001b[1m[\u001b[0m\u001b[34;49mnotice\u001b[0m\u001b[1;39;49m]\u001b[0m\u001b[39;49m A new release of pip is available: \u001b[0m\u001b[31;49m23.2.1\u001b[0m\u001b[39;49m -> \u001b[0m\u001b[32;49m24.2\u001b[0m\n",
      "\u001b[1m[\u001b[0m\u001b[34;49mnotice\u001b[0m\u001b[1;39;49m]\u001b[0m\u001b[39;49m To update, run: \u001b[0m\u001b[32;49mpip install --upgrade pip\u001b[0m\n",
      "Note: you may need to restart the kernel to use updated packages.\n",
      "Collecting plotly\n",
      "  Obtaining dependency information for plotly from https://files.pythonhosted.org/packages/b8/f0/bcf716a8e070370d6598c92fcd328bd9ef8a9bda2c5562da5a835c66700b/plotly-5.23.0-py3-none-any.whl.metadata\n",
      "  Downloading plotly-5.23.0-py3-none-any.whl.metadata (7.3 kB)\n",
      "Collecting tenacity>=6.2.0 (from plotly)\n",
      "  Obtaining dependency information for tenacity>=6.2.0 from https://files.pythonhosted.org/packages/b6/cb/b86984bed139586d01532a587464b5805f12e397594f19f931c4c2fbfa61/tenacity-9.0.0-py3-none-any.whl.metadata\n",
      "  Downloading tenacity-9.0.0-py3-none-any.whl.metadata (1.2 kB)\n",
      "Requirement already satisfied: packaging in /home/retief/git/segment-anything/myenv/lib/python3.11/site-packages (from plotly) (24.1)\n",
      "Downloading plotly-5.23.0-py3-none-any.whl (17.3 MB)\n",
      "\u001b[2K   \u001b[90m━━━━━━━━━━━━━━━━━━━━━━━━━━━━━━━━━━━━━━━━\u001b[0m \u001b[32m17.3/17.3 MB\u001b[0m \u001b[31m8.9 MB/s\u001b[0m eta \u001b[36m0:00:00\u001b[0m:00:01\u001b[0m00:01\u001b[0m\n",
      "\u001b[?25hDownloading tenacity-9.0.0-py3-none-any.whl (28 kB)\n",
      "Installing collected packages: tenacity, plotly\n",
      "Successfully installed plotly-5.23.0 tenacity-9.0.0\n",
      "\n",
      "\u001b[1m[\u001b[0m\u001b[34;49mnotice\u001b[0m\u001b[1;39;49m]\u001b[0m\u001b[39;49m A new release of pip is available: \u001b[0m\u001b[31;49m23.2.1\u001b[0m\u001b[39;49m -> \u001b[0m\u001b[32;49m24.2\u001b[0m\n",
      "\u001b[1m[\u001b[0m\u001b[34;49mnotice\u001b[0m\u001b[1;39;49m]\u001b[0m\u001b[39;49m To update, run: \u001b[0m\u001b[32;49mpip install --upgrade pip\u001b[0m\n",
      "Note: you may need to restart the kernel to use updated packages.\n"
     ]
    }
   ],
   "source": [
    "# %pip install numpy\n",
    "# %pip install matplotlib\n",
    "# %pip install seaborn\n",
    "%pip install pandas\n",
    "%pip install seaborn\n",
    "%pip install plotly"
   ]
  },
  {
   "cell_type": "markdown",
   "metadata": {},
   "source": [
    "clean\n",
    "augment\n",
    "get image conversion ratio\n",
    "area of pothole\n",
    "convert area to true area\n",
    "stick to pothole ratio\n",
    "aspect ratio of pothole shape"
   ]
  },
  {
   "cell_type": "code",
   "execution_count": 8,
   "metadata": {},
   "outputs": [],
   "source": [
    "import pandas as pd\n",
    "import numpy as np\n",
    "import matplotlib.pyplot as plt\n",
    "import seaborn as sns\n",
    "import plotly.express as px\n",
    "import plotly.graph_objects as go"
   ]
  },
  {
   "cell_type": "code",
   "execution_count": null,
   "metadata": {},
   "outputs": [],
   "source": [
    "# Replace 'test_labels.csv' with the actual path to your file\n",
    "data = pd.read_csv('patch/train_labels.csv')\n",
    "\n",
    "data.rename(columns={'Bags used ': 'bags'}, inplace=True)\n",
    "data.rename(columns={'Pothole number': 'p'}, inplace=True)\n",
    "\n",
    "# Basic information about the dataset\n",
    "print(data.head())"
   ]
  },
  {
   "cell_type": "markdown",
   "metadata": {},
   "source": [
    "Add costing for asphalt\n",
    "add research about types of potholes and standards\n",
    "add early comparison of\n",
    "hash the images and find identicals like 1430 and 1431\n",
    "\n",
    "Pothole number,Bags used \n",
    "103,0.5\n",
    "104,0.5\n",
    "105,0.5\n",
    "108,0.25 - 0.5\n",
    "114,2 - 1 (1)\n",
    "143,0.5 - 1 (3)\n",
    "144,0.5 - 2 (2)\n",
    "406,2 - 2.5 (1)\n",
    "434,1 - 0.5 (2)\n",
    "450,1 - 0.5 (1)\n",
    "470,0.5\n",
    "473,0.5\n",
    "479,0.25 - 0.5 (3)\n",
    "1040,0.5 \n",
    "1086,1 - 0.5 (3)\n",
    "1115,0.5\n",
    "1134,0.25\n",
    "1161,0.25\n",
    "1162,0.25\n",
    "1181,1\n",
    "1198,0.25 - 0.5 (2)\n",
    "1205,0.5\n",
    "1250,0.25 - 0.5 (1)\n",
    "1270,0.5\n",
    "1278,0.25\n",
    "1280,0.25\n",
    "1296,0.5\n",
    "1409,0.25\n",
    "1430,0.5\n",
    "1438,0.5\n",
    "\n"
   ]
  },
  {
   "cell_type": "code",
   "execution_count": 15,
   "metadata": {},
   "outputs": [
    {
     "name": "stdout",
     "output_type": "stream",
     "text": [
      "p       0\n",
      "bags    0\n",
      "dtype: int64\n"
     ]
    },
    {
     "data": {
      "application/vnd.plotly.v1+json": {
       "config": {
        "plotlyServerURL": "https://plot.ly"
       },
       "data": [
        {
         "alignmentgroup": "True",
         "bingroup": "x",
         "hovertemplate": "bags=%{x}<br>count=%{y}<extra></extra>",
         "legendgroup": "",
         "marker": {
          "color": "#636efa",
          "pattern": {
           "shape": ""
          }
         },
         "name": "",
         "nbinsx": 20,
         "offsetgroup": "",
         "orientation": "v",
         "showlegend": false,
         "type": "histogram",
         "x": [
          0.5,
          1,
          0.5,
          0.5,
          0.5,
          2,
          0.5,
          0.5,
          0.5,
          2,
          1,
          3,
          2,
          1,
          1,
          0.5,
          4,
          3,
          1,
          1,
          0.5,
          1,
          1,
          0.5,
          2,
          1,
          1,
          3,
          3,
          1,
          1,
          1,
          1,
          3,
          1,
          1,
          1,
          2,
          2,
          2,
          3,
          1.5,
          1.5,
          1,
          1.5,
          0.5,
          0.5,
          0.5,
          0.5,
          1.5,
          0.5,
          1.5,
          1.5,
          1,
          2,
          0.5,
          0.25,
          0.25,
          1,
          0.5,
          0.25,
          0.25,
          0.5,
          0.5,
          1.5,
          0.5,
          1.5,
          1.5,
          2,
          1.5,
          0.5,
          0.5,
          1,
          0.5,
          0.5,
          2,
          0.5,
          1,
          0.5,
          1.5,
          1,
          2.5,
          0.5,
          1,
          1,
          1,
          1,
          1,
          1,
          0.5,
          0.5,
          0.5,
          1.5,
          15,
          1,
          0.5,
          1,
          2,
          2,
          1.5,
          2.5,
          2,
          1.5,
          0.5,
          0.5,
          0.5,
          1,
          1,
          0.5,
          0.5,
          1,
          0.25,
          0.5,
          0.5,
          0.5,
          0.5,
          1,
          1.5,
          2,
          1,
          2,
          1,
          2,
          1.5,
          5,
          0.5,
          1,
          1,
          1,
          1,
          2,
          1,
          1,
          0.5,
          3,
          0.5,
          1,
          1,
          1,
          0.5,
          1,
          2,
          0.5,
          0.5,
          0.5,
          0.25,
          0.5,
          1.5,
          0.5,
          1.5,
          1,
          1,
          0.25,
          1,
          1.5,
          1.5,
          1.5,
          0.25,
          0.5,
          2,
          0.5,
          0.5,
          0.5,
          0.5,
          1,
          0.5,
          0.5,
          0.5,
          0.5,
          0.5,
          0.5,
          1.5,
          1,
          0.5,
          0.5,
          1,
          1,
          2,
          1,
          2,
          1.5,
          0.5,
          3,
          1.5,
          2,
          1.5,
          1.5,
          0.25,
          0.25,
          1,
          0.5,
          1,
          0.5,
          2.5,
          2.5,
          1.5,
          0.5,
          0.5,
          0.5,
          2.5,
          0.5,
          2,
          0.25,
          0.25,
          0.5,
          0.5,
          1,
          0.5,
          0.5,
          0.5,
          1,
          1,
          0.5,
          0.5,
          1,
          1,
          1,
          1,
          0.5,
          0.5,
          0.5,
          0.5,
          0.5,
          0.5,
          0.5,
          0.5,
          2,
          1,
          0.5,
          2,
          1,
          0.5,
          0.5,
          0.5,
          0.5,
          3,
          1.5,
          0.5,
          0.5,
          0.5,
          1,
          0.5,
          0.5,
          0.5,
          0.5,
          0.5,
          0.5,
          0.5,
          0.5,
          0.5,
          0.5,
          0.5,
          0.5,
          1.5,
          2,
          0.5,
          1.5,
          1,
          2,
          0.5,
          0.5,
          0.5,
          0.5,
          1,
          3,
          2.5,
          0.5,
          0.5,
          0.5,
          0.5,
          1,
          0.5,
          4,
          1.5,
          1,
          2.5,
          0.5,
          1,
          0.5,
          0.25,
          1.5,
          0.5,
          0.5,
          0.5,
          0.5,
          0.5,
          0.5,
          1.5,
          0.25,
          0.5,
          1.5,
          1.5,
          0.5,
          0.25,
          0.5,
          0.5,
          0.5,
          0.25,
          0.25,
          0.5,
          0.5,
          0.5,
          0.5,
          0.5,
          1,
          0.25,
          0.25,
          0.25,
          0.5,
          0.5,
          0.5,
          0.5,
          0.5,
          0.25,
          1,
          1.55,
          1.05,
          0.5,
          3,
          0.5,
          0.25,
          1,
          2,
          0.25,
          1,
          0.5,
          0.5,
          0.25,
          0.25,
          0.5,
          0.5,
          1,
          0.5,
          0.5,
          0.5,
          0.55,
          1,
          1,
          0.5,
          0.25,
          0.25,
          0.25,
          0.25,
          0.5,
          0.5,
          0.5,
          1,
          1,
          0.5,
          0.5,
          0.5,
          0.5,
          0.5,
          0.5,
          0.5,
          1,
          0.5,
          0.5,
          0.5,
          0.25,
          0.5,
          0.5,
          0.5,
          0.25,
          1,
          0.5,
          0.5,
          0.5,
          0.5,
          0.5,
          0.5,
          3.1,
          0.25,
          0.25,
          0.25,
          0.25,
          0.5,
          0.5,
          1,
          8,
          0.5,
          0.25,
          0.5,
          0.5,
          0.5,
          0.5,
          0.5,
          1,
          3.05,
          8,
          0.5,
          0.5,
          0.5,
          0.5,
          0.25,
          0.25,
          0.5,
          0.5,
          0.5,
          0.5,
          0.5,
          0.5,
          1,
          0.5,
          0.5,
          0.25,
          0.5,
          0.5,
          0.25,
          0.5,
          0.5,
          0.5,
          0.25,
          0.25,
          0.25,
          0.25,
          0.25,
          0.25,
          0.25,
          0.25,
          0.25,
          0.25,
          0.25,
          0.25,
          0.5,
          0.25,
          0.5,
          0.25,
          0.25,
          0.25,
          0.25,
          0.5,
          1,
          0.5,
          0.5,
          0.5,
          0.25,
          0.5,
          0.25,
          0.25,
          0.25,
          0.5,
          0.5,
          5.5,
          0.25,
          0.5,
          0.5,
          0.25,
          0.5,
          0.5,
          0.25,
          0.5,
          0.25,
          0.5,
          1,
          0.5,
          0.5,
          1,
          0.25,
          0.5,
          0.5,
          0.5,
          0.5,
          1,
          0.25,
          0.25,
          0.25,
          0.5,
          0.5,
          1,
          0.25,
          0.5,
          0.25,
          0.25,
          0.5,
          0.25,
          0.5,
          1.05,
          0.5,
          0.25,
          0.25,
          1,
          0.25,
          0.5,
          0.5,
          1,
          0.25,
          0.5,
          1,
          0.25,
          0.5,
          0.25,
          1,
          2,
          0.5,
          1,
          0.25,
          0.25,
          0.5,
          1,
          0.55,
          1,
          1,
          0.5,
          7,
          0.25,
          0.25,
          1.55,
          2.05,
          1,
          0.25,
          0.5,
          0.25,
          0.25,
          0.5,
          0.5,
          0.5,
          1,
          1,
          2,
          0.5,
          1,
          0.5,
          0.25,
          0.25,
          0.25,
          0.25,
          0.25,
          0.5,
          0.25,
          12,
          1.05,
          0.5,
          1,
          0.5,
          0.25,
          0.5,
          0.5,
          0.5,
          0.5,
          0.5,
          0.25,
          0.25,
          0.5,
          0.25,
          0.25,
          0.25,
          0.25,
          0.25,
          0.25,
          0.25,
          0.5,
          0.25,
          1,
          0.5,
          0.25,
          0.25,
          0.25,
          0.25,
          0.25,
          0.5,
          0.25,
          0.5,
          0.25,
          0.25,
          0.25,
          0.25,
          0.25,
          1,
          0.25,
          0.5,
          0.25,
          0.5,
          1,
          1,
          0.25,
          0.25,
          0.25,
          0.25,
          0.25,
          0.25,
          0.25,
          0.5,
          0.25,
          0.25,
          0.25,
          0.5,
          0.5,
          0.5,
          0.5,
          0.5,
          0.5,
          2,
          1,
          0.25,
          0.5,
          0.25,
          0.5,
          0.55,
          3,
          0.55,
          0.5,
          0.5,
          8,
          0.25,
          1,
          0.25,
          0.25,
          0.25,
          0.25,
          0.5,
          0.5,
          0.5,
          2,
          0.25,
          0.5,
          0.25,
          1,
          0.5,
          0.5,
          0.25,
          0.5,
          0.5,
          1,
          0.25,
          0.25,
          0.5,
          1,
          0.5,
          0.5,
          0.5,
          0.5,
          1,
          0.5,
          1,
          0.5,
          1,
          0.25,
          0.25,
          0.5,
          0.5,
          2,
          0.5,
          2
         ],
         "xaxis": "x",
         "yaxis": "y"
        }
       ],
       "layout": {
        "barmode": "relative",
        "legend": {
         "tracegroupgap": 0
        },
        "template": {
         "data": {
          "bar": [
           {
            "error_x": {
             "color": "#2a3f5f"
            },
            "error_y": {
             "color": "#2a3f5f"
            },
            "marker": {
             "line": {
              "color": "#E5ECF6",
              "width": 0.5
             },
             "pattern": {
              "fillmode": "overlay",
              "size": 10,
              "solidity": 0.2
             }
            },
            "type": "bar"
           }
          ],
          "barpolar": [
           {
            "marker": {
             "line": {
              "color": "#E5ECF6",
              "width": 0.5
             },
             "pattern": {
              "fillmode": "overlay",
              "size": 10,
              "solidity": 0.2
             }
            },
            "type": "barpolar"
           }
          ],
          "carpet": [
           {
            "aaxis": {
             "endlinecolor": "#2a3f5f",
             "gridcolor": "white",
             "linecolor": "white",
             "minorgridcolor": "white",
             "startlinecolor": "#2a3f5f"
            },
            "baxis": {
             "endlinecolor": "#2a3f5f",
             "gridcolor": "white",
             "linecolor": "white",
             "minorgridcolor": "white",
             "startlinecolor": "#2a3f5f"
            },
            "type": "carpet"
           }
          ],
          "choropleth": [
           {
            "colorbar": {
             "outlinewidth": 0,
             "ticks": ""
            },
            "type": "choropleth"
           }
          ],
          "contour": [
           {
            "colorbar": {
             "outlinewidth": 0,
             "ticks": ""
            },
            "colorscale": [
             [
              0,
              "#0d0887"
             ],
             [
              0.1111111111111111,
              "#46039f"
             ],
             [
              0.2222222222222222,
              "#7201a8"
             ],
             [
              0.3333333333333333,
              "#9c179e"
             ],
             [
              0.4444444444444444,
              "#bd3786"
             ],
             [
              0.5555555555555556,
              "#d8576b"
             ],
             [
              0.6666666666666666,
              "#ed7953"
             ],
             [
              0.7777777777777778,
              "#fb9f3a"
             ],
             [
              0.8888888888888888,
              "#fdca26"
             ],
             [
              1,
              "#f0f921"
             ]
            ],
            "type": "contour"
           }
          ],
          "contourcarpet": [
           {
            "colorbar": {
             "outlinewidth": 0,
             "ticks": ""
            },
            "type": "contourcarpet"
           }
          ],
          "heatmap": [
           {
            "colorbar": {
             "outlinewidth": 0,
             "ticks": ""
            },
            "colorscale": [
             [
              0,
              "#0d0887"
             ],
             [
              0.1111111111111111,
              "#46039f"
             ],
             [
              0.2222222222222222,
              "#7201a8"
             ],
             [
              0.3333333333333333,
              "#9c179e"
             ],
             [
              0.4444444444444444,
              "#bd3786"
             ],
             [
              0.5555555555555556,
              "#d8576b"
             ],
             [
              0.6666666666666666,
              "#ed7953"
             ],
             [
              0.7777777777777778,
              "#fb9f3a"
             ],
             [
              0.8888888888888888,
              "#fdca26"
             ],
             [
              1,
              "#f0f921"
             ]
            ],
            "type": "heatmap"
           }
          ],
          "heatmapgl": [
           {
            "colorbar": {
             "outlinewidth": 0,
             "ticks": ""
            },
            "colorscale": [
             [
              0,
              "#0d0887"
             ],
             [
              0.1111111111111111,
              "#46039f"
             ],
             [
              0.2222222222222222,
              "#7201a8"
             ],
             [
              0.3333333333333333,
              "#9c179e"
             ],
             [
              0.4444444444444444,
              "#bd3786"
             ],
             [
              0.5555555555555556,
              "#d8576b"
             ],
             [
              0.6666666666666666,
              "#ed7953"
             ],
             [
              0.7777777777777778,
              "#fb9f3a"
             ],
             [
              0.8888888888888888,
              "#fdca26"
             ],
             [
              1,
              "#f0f921"
             ]
            ],
            "type": "heatmapgl"
           }
          ],
          "histogram": [
           {
            "marker": {
             "pattern": {
              "fillmode": "overlay",
              "size": 10,
              "solidity": 0.2
             }
            },
            "type": "histogram"
           }
          ],
          "histogram2d": [
           {
            "colorbar": {
             "outlinewidth": 0,
             "ticks": ""
            },
            "colorscale": [
             [
              0,
              "#0d0887"
             ],
             [
              0.1111111111111111,
              "#46039f"
             ],
             [
              0.2222222222222222,
              "#7201a8"
             ],
             [
              0.3333333333333333,
              "#9c179e"
             ],
             [
              0.4444444444444444,
              "#bd3786"
             ],
             [
              0.5555555555555556,
              "#d8576b"
             ],
             [
              0.6666666666666666,
              "#ed7953"
             ],
             [
              0.7777777777777778,
              "#fb9f3a"
             ],
             [
              0.8888888888888888,
              "#fdca26"
             ],
             [
              1,
              "#f0f921"
             ]
            ],
            "type": "histogram2d"
           }
          ],
          "histogram2dcontour": [
           {
            "colorbar": {
             "outlinewidth": 0,
             "ticks": ""
            },
            "colorscale": [
             [
              0,
              "#0d0887"
             ],
             [
              0.1111111111111111,
              "#46039f"
             ],
             [
              0.2222222222222222,
              "#7201a8"
             ],
             [
              0.3333333333333333,
              "#9c179e"
             ],
             [
              0.4444444444444444,
              "#bd3786"
             ],
             [
              0.5555555555555556,
              "#d8576b"
             ],
             [
              0.6666666666666666,
              "#ed7953"
             ],
             [
              0.7777777777777778,
              "#fb9f3a"
             ],
             [
              0.8888888888888888,
              "#fdca26"
             ],
             [
              1,
              "#f0f921"
             ]
            ],
            "type": "histogram2dcontour"
           }
          ],
          "mesh3d": [
           {
            "colorbar": {
             "outlinewidth": 0,
             "ticks": ""
            },
            "type": "mesh3d"
           }
          ],
          "parcoords": [
           {
            "line": {
             "colorbar": {
              "outlinewidth": 0,
              "ticks": ""
             }
            },
            "type": "parcoords"
           }
          ],
          "pie": [
           {
            "automargin": true,
            "type": "pie"
           }
          ],
          "scatter": [
           {
            "fillpattern": {
             "fillmode": "overlay",
             "size": 10,
             "solidity": 0.2
            },
            "type": "scatter"
           }
          ],
          "scatter3d": [
           {
            "line": {
             "colorbar": {
              "outlinewidth": 0,
              "ticks": ""
             }
            },
            "marker": {
             "colorbar": {
              "outlinewidth": 0,
              "ticks": ""
             }
            },
            "type": "scatter3d"
           }
          ],
          "scattercarpet": [
           {
            "marker": {
             "colorbar": {
              "outlinewidth": 0,
              "ticks": ""
             }
            },
            "type": "scattercarpet"
           }
          ],
          "scattergeo": [
           {
            "marker": {
             "colorbar": {
              "outlinewidth": 0,
              "ticks": ""
             }
            },
            "type": "scattergeo"
           }
          ],
          "scattergl": [
           {
            "marker": {
             "colorbar": {
              "outlinewidth": 0,
              "ticks": ""
             }
            },
            "type": "scattergl"
           }
          ],
          "scattermapbox": [
           {
            "marker": {
             "colorbar": {
              "outlinewidth": 0,
              "ticks": ""
             }
            },
            "type": "scattermapbox"
           }
          ],
          "scatterpolar": [
           {
            "marker": {
             "colorbar": {
              "outlinewidth": 0,
              "ticks": ""
             }
            },
            "type": "scatterpolar"
           }
          ],
          "scatterpolargl": [
           {
            "marker": {
             "colorbar": {
              "outlinewidth": 0,
              "ticks": ""
             }
            },
            "type": "scatterpolargl"
           }
          ],
          "scatterternary": [
           {
            "marker": {
             "colorbar": {
              "outlinewidth": 0,
              "ticks": ""
             }
            },
            "type": "scatterternary"
           }
          ],
          "surface": [
           {
            "colorbar": {
             "outlinewidth": 0,
             "ticks": ""
            },
            "colorscale": [
             [
              0,
              "#0d0887"
             ],
             [
              0.1111111111111111,
              "#46039f"
             ],
             [
              0.2222222222222222,
              "#7201a8"
             ],
             [
              0.3333333333333333,
              "#9c179e"
             ],
             [
              0.4444444444444444,
              "#bd3786"
             ],
             [
              0.5555555555555556,
              "#d8576b"
             ],
             [
              0.6666666666666666,
              "#ed7953"
             ],
             [
              0.7777777777777778,
              "#fb9f3a"
             ],
             [
              0.8888888888888888,
              "#fdca26"
             ],
             [
              1,
              "#f0f921"
             ]
            ],
            "type": "surface"
           }
          ],
          "table": [
           {
            "cells": {
             "fill": {
              "color": "#EBF0F8"
             },
             "line": {
              "color": "white"
             }
            },
            "header": {
             "fill": {
              "color": "#C8D4E3"
             },
             "line": {
              "color": "white"
             }
            },
            "type": "table"
           }
          ]
         },
         "layout": {
          "annotationdefaults": {
           "arrowcolor": "#2a3f5f",
           "arrowhead": 0,
           "arrowwidth": 1
          },
          "autotypenumbers": "strict",
          "coloraxis": {
           "colorbar": {
            "outlinewidth": 0,
            "ticks": ""
           }
          },
          "colorscale": {
           "diverging": [
            [
             0,
             "#8e0152"
            ],
            [
             0.1,
             "#c51b7d"
            ],
            [
             0.2,
             "#de77ae"
            ],
            [
             0.3,
             "#f1b6da"
            ],
            [
             0.4,
             "#fde0ef"
            ],
            [
             0.5,
             "#f7f7f7"
            ],
            [
             0.6,
             "#e6f5d0"
            ],
            [
             0.7,
             "#b8e186"
            ],
            [
             0.8,
             "#7fbc41"
            ],
            [
             0.9,
             "#4d9221"
            ],
            [
             1,
             "#276419"
            ]
           ],
           "sequential": [
            [
             0,
             "#0d0887"
            ],
            [
             0.1111111111111111,
             "#46039f"
            ],
            [
             0.2222222222222222,
             "#7201a8"
            ],
            [
             0.3333333333333333,
             "#9c179e"
            ],
            [
             0.4444444444444444,
             "#bd3786"
            ],
            [
             0.5555555555555556,
             "#d8576b"
            ],
            [
             0.6666666666666666,
             "#ed7953"
            ],
            [
             0.7777777777777778,
             "#fb9f3a"
            ],
            [
             0.8888888888888888,
             "#fdca26"
            ],
            [
             1,
             "#f0f921"
            ]
           ],
           "sequentialminus": [
            [
             0,
             "#0d0887"
            ],
            [
             0.1111111111111111,
             "#46039f"
            ],
            [
             0.2222222222222222,
             "#7201a8"
            ],
            [
             0.3333333333333333,
             "#9c179e"
            ],
            [
             0.4444444444444444,
             "#bd3786"
            ],
            [
             0.5555555555555556,
             "#d8576b"
            ],
            [
             0.6666666666666666,
             "#ed7953"
            ],
            [
             0.7777777777777778,
             "#fb9f3a"
            ],
            [
             0.8888888888888888,
             "#fdca26"
            ],
            [
             1,
             "#f0f921"
            ]
           ]
          },
          "colorway": [
           "#636efa",
           "#EF553B",
           "#00cc96",
           "#ab63fa",
           "#FFA15A",
           "#19d3f3",
           "#FF6692",
           "#B6E880",
           "#FF97FF",
           "#FECB52"
          ],
          "font": {
           "color": "#2a3f5f"
          },
          "geo": {
           "bgcolor": "white",
           "lakecolor": "white",
           "landcolor": "#E5ECF6",
           "showlakes": true,
           "showland": true,
           "subunitcolor": "white"
          },
          "hoverlabel": {
           "align": "left"
          },
          "hovermode": "closest",
          "mapbox": {
           "style": "light"
          },
          "paper_bgcolor": "white",
          "plot_bgcolor": "#E5ECF6",
          "polar": {
           "angularaxis": {
            "gridcolor": "white",
            "linecolor": "white",
            "ticks": ""
           },
           "bgcolor": "#E5ECF6",
           "radialaxis": {
            "gridcolor": "white",
            "linecolor": "white",
            "ticks": ""
           }
          },
          "scene": {
           "xaxis": {
            "backgroundcolor": "#E5ECF6",
            "gridcolor": "white",
            "gridwidth": 2,
            "linecolor": "white",
            "showbackground": true,
            "ticks": "",
            "zerolinecolor": "white"
           },
           "yaxis": {
            "backgroundcolor": "#E5ECF6",
            "gridcolor": "white",
            "gridwidth": 2,
            "linecolor": "white",
            "showbackground": true,
            "ticks": "",
            "zerolinecolor": "white"
           },
           "zaxis": {
            "backgroundcolor": "#E5ECF6",
            "gridcolor": "white",
            "gridwidth": 2,
            "linecolor": "white",
            "showbackground": true,
            "ticks": "",
            "zerolinecolor": "white"
           }
          },
          "shapedefaults": {
           "line": {
            "color": "#2a3f5f"
           }
          },
          "ternary": {
           "aaxis": {
            "gridcolor": "white",
            "linecolor": "white",
            "ticks": ""
           },
           "baxis": {
            "gridcolor": "white",
            "linecolor": "white",
            "ticks": ""
           },
           "bgcolor": "#E5ECF6",
           "caxis": {
            "gridcolor": "white",
            "linecolor": "white",
            "ticks": ""
           }
          },
          "title": {
           "x": 0.05
          },
          "xaxis": {
           "automargin": true,
           "gridcolor": "white",
           "linecolor": "white",
           "ticks": "",
           "title": {
            "standoff": 15
           },
           "zerolinecolor": "white",
           "zerolinewidth": 2
          },
          "yaxis": {
           "automargin": true,
           "gridcolor": "white",
           "linecolor": "white",
           "ticks": "",
           "title": {
            "standoff": 15
           },
           "zerolinecolor": "white",
           "zerolinewidth": 2
          }
         }
        },
        "title": {
         "text": "Distribution of bags"
        },
        "xaxis": {
         "anchor": "y",
         "domain": [
          0,
          1
         ],
         "title": {
          "text": "bags"
         }
        },
        "yaxis": {
         "anchor": "x",
         "domain": [
          0,
          1
         ],
         "title": {
          "text": "count"
         }
        }
       }
      }
     },
     "metadata": {},
     "output_type": "display_data"
    },
    {
     "data": {
      "application/vnd.plotly.v1+json": {
       "config": {
        "plotlyServerURL": "https://plot.ly"
       },
       "data": [
        {
         "hovertemplate": "p=%{x}<br>bags=%{y}<extra></extra>",
         "legendgroup": "",
         "marker": {
          "color": "#636efa",
          "opacity": 0.3,
          "symbol": "circle"
         },
         "mode": "markers",
         "name": "",
         "orientation": "v",
         "showlegend": false,
         "type": "scatter",
         "x": [
          101,
          102,
          106,
          107,
          109,
          110,
          111,
          112,
          113,
          115,
          116,
          117,
          118,
          119,
          120,
          121,
          122,
          123,
          124,
          125,
          126,
          127,
          128,
          129,
          132,
          133,
          134,
          135,
          136,
          138,
          139,
          140,
          141,
          142,
          145,
          146,
          147,
          148,
          149,
          150,
          151,
          152,
          153,
          154,
          155,
          156,
          157,
          158,
          159,
          161,
          162,
          163,
          164,
          165,
          166,
          167,
          168,
          169,
          170,
          171,
          172,
          173,
          174,
          175,
          176,
          177,
          178,
          179,
          180,
          181,
          182,
          183,
          184,
          185,
          186,
          187,
          188,
          189,
          190,
          191,
          192,
          193,
          194,
          195,
          196,
          197,
          198,
          199,
          200,
          201,
          202,
          203,
          204,
          205,
          206,
          207,
          208,
          209,
          210,
          211,
          212,
          213,
          214,
          215,
          216,
          217,
          218,
          219,
          220,
          221,
          222,
          223,
          224,
          225,
          226,
          227,
          228,
          229,
          230,
          231,
          232,
          233,
          234,
          235,
          236,
          237,
          238,
          239,
          240,
          241,
          242,
          243,
          244,
          245,
          246,
          247,
          248,
          249,
          250,
          299,
          300,
          308,
          309,
          310,
          311,
          312,
          313,
          314,
          315,
          316,
          317,
          318,
          319,
          320,
          321,
          322,
          323,
          324,
          325,
          326,
          327,
          328,
          329,
          330,
          331,
          332,
          333,
          334,
          335,
          336,
          337,
          338,
          339,
          340,
          341,
          342,
          343,
          344,
          345,
          346,
          347,
          348,
          349,
          350,
          404,
          405,
          407,
          408,
          409,
          410,
          411,
          412,
          413,
          414,
          415,
          416,
          417,
          418,
          419,
          420,
          421,
          422,
          423,
          424,
          425,
          426,
          427,
          428,
          429,
          430,
          431,
          432,
          433,
          435,
          436,
          437,
          438,
          439,
          440,
          441,
          442,
          443,
          444,
          445,
          446,
          447,
          448,
          449,
          451,
          452,
          453,
          454,
          455,
          456,
          457,
          458,
          459,
          460,
          461,
          462,
          463,
          464,
          465,
          466,
          467,
          468,
          469,
          471,
          472,
          474,
          475,
          476,
          477,
          478,
          497,
          498,
          499,
          500,
          923,
          924,
          925,
          926,
          928,
          929,
          930,
          931,
          932,
          933,
          934,
          935,
          936,
          937,
          938,
          939,
          940,
          941,
          942,
          943,
          944,
          945,
          946,
          948,
          949,
          950,
          951,
          952,
          953,
          954,
          955,
          956,
          957,
          958,
          959,
          960,
          961,
          962,
          963,
          1032,
          1033,
          1034,
          1035,
          1036,
          1037,
          1038,
          1039,
          1041,
          1042,
          1043,
          1044,
          1045,
          1046,
          1047,
          1048,
          1049,
          1050,
          1051,
          1052,
          1053,
          1054,
          1055,
          1056,
          1057,
          1058,
          1059,
          1060,
          1061,
          1062,
          1063,
          1064,
          1065,
          1066,
          1068,
          1069,
          1070,
          1071,
          1072,
          1073,
          1074,
          1075,
          1076,
          1077,
          1078,
          1079,
          1080,
          1081,
          1082,
          1083,
          1084,
          1085,
          1087,
          1088,
          1089,
          1090,
          1091,
          1092,
          1093,
          1094,
          1095,
          1096,
          1097,
          1098,
          1099,
          1100,
          1101,
          1102,
          1103,
          1104,
          1105,
          1106,
          1107,
          1108,
          1109,
          1110,
          1111,
          1112,
          1113,
          1114,
          1116,
          1117,
          1118,
          1119,
          1120,
          1121,
          1122,
          1123,
          1124,
          1125,
          1126,
          1127,
          1128,
          1129,
          1130,
          1131,
          1132,
          1133,
          1135,
          1136,
          1137,
          1138,
          1139,
          1140,
          1141,
          1142,
          1143,
          1144,
          1145,
          1146,
          1147,
          1148,
          1149,
          1150,
          1151,
          1153,
          1154,
          1155,
          1156,
          1157,
          1158,
          1159,
          1160,
          1163,
          1164,
          1165,
          1166,
          1167,
          1168,
          1169,
          1170,
          1171,
          1172,
          1173,
          1174,
          1175,
          1176,
          1177,
          1178,
          1179,
          1180,
          1182,
          1183,
          1184,
          1185,
          1186,
          1187,
          1188,
          1189,
          1190,
          1192,
          1193,
          1194,
          1195,
          1196,
          1197,
          1199,
          1200,
          1201,
          1202,
          1203,
          1204,
          1207,
          1208,
          1209,
          1210,
          1211,
          1212,
          1213,
          1214,
          1215,
          1216,
          1217,
          1218,
          1219,
          1220,
          1221,
          1222,
          1224,
          1225,
          1226,
          1227,
          1228,
          1229,
          1230,
          1231,
          1232,
          1233,
          1234,
          1235,
          1236,
          1237,
          1238,
          1239,
          1240,
          1241,
          1242,
          1243,
          1244,
          1245,
          1246,
          1247,
          1248,
          1249,
          1251,
          1252,
          1253,
          1254,
          1255,
          1256,
          1257,
          1258,
          1259,
          1260,
          1261,
          1262,
          1263,
          1264,
          1265,
          1266,
          1267,
          1268,
          1269,
          1271,
          1272,
          1273,
          1274,
          1275,
          1276,
          1277,
          1279,
          1281,
          1282,
          1283,
          1284,
          1285,
          1286,
          1287,
          1288,
          1289,
          1290,
          1291,
          1292,
          1293,
          1294,
          1295,
          1297,
          1298,
          1299,
          1300,
          1301,
          1302,
          1303,
          1304,
          1305,
          1306,
          1307,
          1308,
          1309,
          1310,
          1311,
          1312,
          1313,
          1314,
          1315,
          1316,
          1317,
          1318,
          1320,
          1321,
          1322,
          1323,
          1324,
          1325,
          1326,
          1327,
          1328,
          1329,
          1331,
          1332,
          1333,
          1334,
          1335,
          1336,
          1337,
          1338,
          1339,
          1340,
          1341,
          1342,
          1343,
          1344,
          1345,
          1346,
          1347,
          1348,
          1349,
          1350,
          1351,
          1352,
          1353,
          1354,
          1355,
          1356,
          1357,
          1358,
          1406,
          1407,
          1408,
          1410,
          1411,
          1412,
          1413,
          1414,
          1415,
          1416,
          1417,
          1418,
          1419,
          1420,
          1421,
          1422,
          1423,
          1424,
          1425,
          1426,
          1427,
          1428,
          1429,
          1431,
          1432,
          1433,
          1434,
          1435,
          1436,
          1437,
          1439,
          1440,
          1441,
          1442,
          1443,
          1444,
          1445,
          1446,
          1448,
          1449,
          1450
         ],
         "xaxis": "x",
         "y": [
          0.5,
          1,
          0.5,
          0.5,
          0.5,
          2,
          0.5,
          0.5,
          0.5,
          2,
          1,
          3,
          2,
          1,
          1,
          0.5,
          4,
          3,
          1,
          1,
          0.5,
          1,
          1,
          0.5,
          2,
          1,
          1,
          3,
          3,
          1,
          1,
          1,
          1,
          3,
          1,
          1,
          1,
          2,
          2,
          2,
          3,
          1.5,
          1.5,
          1,
          1.5,
          0.5,
          0.5,
          0.5,
          0.5,
          1.5,
          0.5,
          1.5,
          1.5,
          1,
          2,
          0.5,
          0.25,
          0.25,
          1,
          0.5,
          0.25,
          0.25,
          0.5,
          0.5,
          1.5,
          0.5,
          1.5,
          1.5,
          2,
          1.5,
          0.5,
          0.5,
          1,
          0.5,
          0.5,
          2,
          0.5,
          1,
          0.5,
          1.5,
          1,
          2.5,
          0.5,
          1,
          1,
          1,
          1,
          1,
          1,
          0.5,
          0.5,
          0.5,
          1.5,
          15,
          1,
          0.5,
          1,
          2,
          2,
          1.5,
          2.5,
          2,
          1.5,
          0.5,
          0.5,
          0.5,
          1,
          1,
          0.5,
          0.5,
          1,
          0.25,
          0.5,
          0.5,
          0.5,
          0.5,
          1,
          1.5,
          2,
          1,
          2,
          1,
          2,
          1.5,
          5,
          0.5,
          1,
          1,
          1,
          1,
          2,
          1,
          1,
          0.5,
          3,
          0.5,
          1,
          1,
          1,
          0.5,
          1,
          2,
          0.5,
          0.5,
          0.5,
          0.25,
          0.5,
          1.5,
          0.5,
          1.5,
          1,
          1,
          0.25,
          1,
          1.5,
          1.5,
          1.5,
          0.25,
          0.5,
          2,
          0.5,
          0.5,
          0.5,
          0.5,
          1,
          0.5,
          0.5,
          0.5,
          0.5,
          0.5,
          0.5,
          1.5,
          1,
          0.5,
          0.5,
          1,
          1,
          2,
          1,
          2,
          1.5,
          0.5,
          3,
          1.5,
          2,
          1.5,
          1.5,
          0.25,
          0.25,
          1,
          0.5,
          1,
          0.5,
          2.5,
          2.5,
          1.5,
          0.5,
          0.5,
          0.5,
          2.5,
          0.5,
          2,
          0.25,
          0.25,
          0.5,
          0.5,
          1,
          0.5,
          0.5,
          0.5,
          1,
          1,
          0.5,
          0.5,
          1,
          1,
          1,
          1,
          0.5,
          0.5,
          0.5,
          0.5,
          0.5,
          0.5,
          0.5,
          0.5,
          2,
          1,
          0.5,
          2,
          1,
          0.5,
          0.5,
          0.5,
          0.5,
          3,
          1.5,
          0.5,
          0.5,
          0.5,
          1,
          0.5,
          0.5,
          0.5,
          0.5,
          0.5,
          0.5,
          0.5,
          0.5,
          0.5,
          0.5,
          0.5,
          0.5,
          1.5,
          2,
          0.5,
          1.5,
          1,
          2,
          0.5,
          0.5,
          0.5,
          0.5,
          1,
          3,
          2.5,
          0.5,
          0.5,
          0.5,
          0.5,
          1,
          0.5,
          4,
          1.5,
          1,
          2.5,
          0.5,
          1,
          0.5,
          0.25,
          1.5,
          0.5,
          0.5,
          0.5,
          0.5,
          0.5,
          0.5,
          1.5,
          0.25,
          0.5,
          1.5,
          1.5,
          0.5,
          0.25,
          0.5,
          0.5,
          0.5,
          0.25,
          0.25,
          0.5,
          0.5,
          0.5,
          0.5,
          0.5,
          1,
          0.25,
          0.25,
          0.25,
          0.5,
          0.5,
          0.5,
          0.5,
          0.5,
          0.25,
          1,
          1.55,
          1.05,
          0.5,
          3,
          0.5,
          0.25,
          1,
          2,
          0.25,
          1,
          0.5,
          0.5,
          0.25,
          0.25,
          0.5,
          0.5,
          1,
          0.5,
          0.5,
          0.5,
          0.55,
          1,
          1,
          0.5,
          0.25,
          0.25,
          0.25,
          0.25,
          0.5,
          0.5,
          0.5,
          1,
          1,
          0.5,
          0.5,
          0.5,
          0.5,
          0.5,
          0.5,
          0.5,
          1,
          0.5,
          0.5,
          0.5,
          0.25,
          0.5,
          0.5,
          0.5,
          0.25,
          1,
          0.5,
          0.5,
          0.5,
          0.5,
          0.5,
          0.5,
          3.1,
          0.25,
          0.25,
          0.25,
          0.25,
          0.5,
          0.5,
          1,
          8,
          0.5,
          0.25,
          0.5,
          0.5,
          0.5,
          0.5,
          0.5,
          1,
          3.05,
          8,
          0.5,
          0.5,
          0.5,
          0.5,
          0.25,
          0.25,
          0.5,
          0.5,
          0.5,
          0.5,
          0.5,
          0.5,
          1,
          0.5,
          0.5,
          0.25,
          0.5,
          0.5,
          0.25,
          0.5,
          0.5,
          0.5,
          0.25,
          0.25,
          0.25,
          0.25,
          0.25,
          0.25,
          0.25,
          0.25,
          0.25,
          0.25,
          0.25,
          0.25,
          0.5,
          0.25,
          0.5,
          0.25,
          0.25,
          0.25,
          0.25,
          0.5,
          1,
          0.5,
          0.5,
          0.5,
          0.25,
          0.5,
          0.25,
          0.25,
          0.25,
          0.5,
          0.5,
          5.5,
          0.25,
          0.5,
          0.5,
          0.25,
          0.5,
          0.5,
          0.25,
          0.5,
          0.25,
          0.5,
          1,
          0.5,
          0.5,
          1,
          0.25,
          0.5,
          0.5,
          0.5,
          0.5,
          1,
          0.25,
          0.25,
          0.25,
          0.5,
          0.5,
          1,
          0.25,
          0.5,
          0.25,
          0.25,
          0.5,
          0.25,
          0.5,
          1.05,
          0.5,
          0.25,
          0.25,
          1,
          0.25,
          0.5,
          0.5,
          1,
          0.25,
          0.5,
          1,
          0.25,
          0.5,
          0.25,
          1,
          2,
          0.5,
          1,
          0.25,
          0.25,
          0.5,
          1,
          0.55,
          1,
          1,
          0.5,
          7,
          0.25,
          0.25,
          1.55,
          2.05,
          1,
          0.25,
          0.5,
          0.25,
          0.25,
          0.5,
          0.5,
          0.5,
          1,
          1,
          2,
          0.5,
          1,
          0.5,
          0.25,
          0.25,
          0.25,
          0.25,
          0.25,
          0.5,
          0.25,
          12,
          1.05,
          0.5,
          1,
          0.5,
          0.25,
          0.5,
          0.5,
          0.5,
          0.5,
          0.5,
          0.25,
          0.25,
          0.5,
          0.25,
          0.25,
          0.25,
          0.25,
          0.25,
          0.25,
          0.25,
          0.5,
          0.25,
          1,
          0.5,
          0.25,
          0.25,
          0.25,
          0.25,
          0.25,
          0.5,
          0.25,
          0.5,
          0.25,
          0.25,
          0.25,
          0.25,
          0.25,
          1,
          0.25,
          0.5,
          0.25,
          0.5,
          1,
          1,
          0.25,
          0.25,
          0.25,
          0.25,
          0.25,
          0.25,
          0.25,
          0.5,
          0.25,
          0.25,
          0.25,
          0.5,
          0.5,
          0.5,
          0.5,
          0.5,
          0.5,
          2,
          1,
          0.25,
          0.5,
          0.25,
          0.5,
          0.55,
          3,
          0.55,
          0.5,
          0.5,
          8,
          0.25,
          1,
          0.25,
          0.25,
          0.25,
          0.25,
          0.5,
          0.5,
          0.5,
          2,
          0.25,
          0.5,
          0.25,
          1,
          0.5,
          0.5,
          0.25,
          0.5,
          0.5,
          1,
          0.25,
          0.25,
          0.5,
          1,
          0.5,
          0.5,
          0.5,
          0.5,
          1,
          0.5,
          1,
          0.5,
          1,
          0.25,
          0.25,
          0.5,
          0.5,
          2,
          0.5,
          2
         ],
         "yaxis": "y"
        }
       ],
       "layout": {
        "legend": {
         "tracegroupgap": 0
        },
        "template": {
         "data": {
          "bar": [
           {
            "error_x": {
             "color": "#2a3f5f"
            },
            "error_y": {
             "color": "#2a3f5f"
            },
            "marker": {
             "line": {
              "color": "#E5ECF6",
              "width": 0.5
             },
             "pattern": {
              "fillmode": "overlay",
              "size": 10,
              "solidity": 0.2
             }
            },
            "type": "bar"
           }
          ],
          "barpolar": [
           {
            "marker": {
             "line": {
              "color": "#E5ECF6",
              "width": 0.5
             },
             "pattern": {
              "fillmode": "overlay",
              "size": 10,
              "solidity": 0.2
             }
            },
            "type": "barpolar"
           }
          ],
          "carpet": [
           {
            "aaxis": {
             "endlinecolor": "#2a3f5f",
             "gridcolor": "white",
             "linecolor": "white",
             "minorgridcolor": "white",
             "startlinecolor": "#2a3f5f"
            },
            "baxis": {
             "endlinecolor": "#2a3f5f",
             "gridcolor": "white",
             "linecolor": "white",
             "minorgridcolor": "white",
             "startlinecolor": "#2a3f5f"
            },
            "type": "carpet"
           }
          ],
          "choropleth": [
           {
            "colorbar": {
             "outlinewidth": 0,
             "ticks": ""
            },
            "type": "choropleth"
           }
          ],
          "contour": [
           {
            "colorbar": {
             "outlinewidth": 0,
             "ticks": ""
            },
            "colorscale": [
             [
              0,
              "#0d0887"
             ],
             [
              0.1111111111111111,
              "#46039f"
             ],
             [
              0.2222222222222222,
              "#7201a8"
             ],
             [
              0.3333333333333333,
              "#9c179e"
             ],
             [
              0.4444444444444444,
              "#bd3786"
             ],
             [
              0.5555555555555556,
              "#d8576b"
             ],
             [
              0.6666666666666666,
              "#ed7953"
             ],
             [
              0.7777777777777778,
              "#fb9f3a"
             ],
             [
              0.8888888888888888,
              "#fdca26"
             ],
             [
              1,
              "#f0f921"
             ]
            ],
            "type": "contour"
           }
          ],
          "contourcarpet": [
           {
            "colorbar": {
             "outlinewidth": 0,
             "ticks": ""
            },
            "type": "contourcarpet"
           }
          ],
          "heatmap": [
           {
            "colorbar": {
             "outlinewidth": 0,
             "ticks": ""
            },
            "colorscale": [
             [
              0,
              "#0d0887"
             ],
             [
              0.1111111111111111,
              "#46039f"
             ],
             [
              0.2222222222222222,
              "#7201a8"
             ],
             [
              0.3333333333333333,
              "#9c179e"
             ],
             [
              0.4444444444444444,
              "#bd3786"
             ],
             [
              0.5555555555555556,
              "#d8576b"
             ],
             [
              0.6666666666666666,
              "#ed7953"
             ],
             [
              0.7777777777777778,
              "#fb9f3a"
             ],
             [
              0.8888888888888888,
              "#fdca26"
             ],
             [
              1,
              "#f0f921"
             ]
            ],
            "type": "heatmap"
           }
          ],
          "heatmapgl": [
           {
            "colorbar": {
             "outlinewidth": 0,
             "ticks": ""
            },
            "colorscale": [
             [
              0,
              "#0d0887"
             ],
             [
              0.1111111111111111,
              "#46039f"
             ],
             [
              0.2222222222222222,
              "#7201a8"
             ],
             [
              0.3333333333333333,
              "#9c179e"
             ],
             [
              0.4444444444444444,
              "#bd3786"
             ],
             [
              0.5555555555555556,
              "#d8576b"
             ],
             [
              0.6666666666666666,
              "#ed7953"
             ],
             [
              0.7777777777777778,
              "#fb9f3a"
             ],
             [
              0.8888888888888888,
              "#fdca26"
             ],
             [
              1,
              "#f0f921"
             ]
            ],
            "type": "heatmapgl"
           }
          ],
          "histogram": [
           {
            "marker": {
             "pattern": {
              "fillmode": "overlay",
              "size": 10,
              "solidity": 0.2
             }
            },
            "type": "histogram"
           }
          ],
          "histogram2d": [
           {
            "colorbar": {
             "outlinewidth": 0,
             "ticks": ""
            },
            "colorscale": [
             [
              0,
              "#0d0887"
             ],
             [
              0.1111111111111111,
              "#46039f"
             ],
             [
              0.2222222222222222,
              "#7201a8"
             ],
             [
              0.3333333333333333,
              "#9c179e"
             ],
             [
              0.4444444444444444,
              "#bd3786"
             ],
             [
              0.5555555555555556,
              "#d8576b"
             ],
             [
              0.6666666666666666,
              "#ed7953"
             ],
             [
              0.7777777777777778,
              "#fb9f3a"
             ],
             [
              0.8888888888888888,
              "#fdca26"
             ],
             [
              1,
              "#f0f921"
             ]
            ],
            "type": "histogram2d"
           }
          ],
          "histogram2dcontour": [
           {
            "colorbar": {
             "outlinewidth": 0,
             "ticks": ""
            },
            "colorscale": [
             [
              0,
              "#0d0887"
             ],
             [
              0.1111111111111111,
              "#46039f"
             ],
             [
              0.2222222222222222,
              "#7201a8"
             ],
             [
              0.3333333333333333,
              "#9c179e"
             ],
             [
              0.4444444444444444,
              "#bd3786"
             ],
             [
              0.5555555555555556,
              "#d8576b"
             ],
             [
              0.6666666666666666,
              "#ed7953"
             ],
             [
              0.7777777777777778,
              "#fb9f3a"
             ],
             [
              0.8888888888888888,
              "#fdca26"
             ],
             [
              1,
              "#f0f921"
             ]
            ],
            "type": "histogram2dcontour"
           }
          ],
          "mesh3d": [
           {
            "colorbar": {
             "outlinewidth": 0,
             "ticks": ""
            },
            "type": "mesh3d"
           }
          ],
          "parcoords": [
           {
            "line": {
             "colorbar": {
              "outlinewidth": 0,
              "ticks": ""
             }
            },
            "type": "parcoords"
           }
          ],
          "pie": [
           {
            "automargin": true,
            "type": "pie"
           }
          ],
          "scatter": [
           {
            "fillpattern": {
             "fillmode": "overlay",
             "size": 10,
             "solidity": 0.2
            },
            "type": "scatter"
           }
          ],
          "scatter3d": [
           {
            "line": {
             "colorbar": {
              "outlinewidth": 0,
              "ticks": ""
             }
            },
            "marker": {
             "colorbar": {
              "outlinewidth": 0,
              "ticks": ""
             }
            },
            "type": "scatter3d"
           }
          ],
          "scattercarpet": [
           {
            "marker": {
             "colorbar": {
              "outlinewidth": 0,
              "ticks": ""
             }
            },
            "type": "scattercarpet"
           }
          ],
          "scattergeo": [
           {
            "marker": {
             "colorbar": {
              "outlinewidth": 0,
              "ticks": ""
             }
            },
            "type": "scattergeo"
           }
          ],
          "scattergl": [
           {
            "marker": {
             "colorbar": {
              "outlinewidth": 0,
              "ticks": ""
             }
            },
            "type": "scattergl"
           }
          ],
          "scattermapbox": [
           {
            "marker": {
             "colorbar": {
              "outlinewidth": 0,
              "ticks": ""
             }
            },
            "type": "scattermapbox"
           }
          ],
          "scatterpolar": [
           {
            "marker": {
             "colorbar": {
              "outlinewidth": 0,
              "ticks": ""
             }
            },
            "type": "scatterpolar"
           }
          ],
          "scatterpolargl": [
           {
            "marker": {
             "colorbar": {
              "outlinewidth": 0,
              "ticks": ""
             }
            },
            "type": "scatterpolargl"
           }
          ],
          "scatterternary": [
           {
            "marker": {
             "colorbar": {
              "outlinewidth": 0,
              "ticks": ""
             }
            },
            "type": "scatterternary"
           }
          ],
          "surface": [
           {
            "colorbar": {
             "outlinewidth": 0,
             "ticks": ""
            },
            "colorscale": [
             [
              0,
              "#0d0887"
             ],
             [
              0.1111111111111111,
              "#46039f"
             ],
             [
              0.2222222222222222,
              "#7201a8"
             ],
             [
              0.3333333333333333,
              "#9c179e"
             ],
             [
              0.4444444444444444,
              "#bd3786"
             ],
             [
              0.5555555555555556,
              "#d8576b"
             ],
             [
              0.6666666666666666,
              "#ed7953"
             ],
             [
              0.7777777777777778,
              "#fb9f3a"
             ],
             [
              0.8888888888888888,
              "#fdca26"
             ],
             [
              1,
              "#f0f921"
             ]
            ],
            "type": "surface"
           }
          ],
          "table": [
           {
            "cells": {
             "fill": {
              "color": "#EBF0F8"
             },
             "line": {
              "color": "white"
             }
            },
            "header": {
             "fill": {
              "color": "#C8D4E3"
             },
             "line": {
              "color": "white"
             }
            },
            "type": "table"
           }
          ]
         },
         "layout": {
          "annotationdefaults": {
           "arrowcolor": "#2a3f5f",
           "arrowhead": 0,
           "arrowwidth": 1
          },
          "autotypenumbers": "strict",
          "coloraxis": {
           "colorbar": {
            "outlinewidth": 0,
            "ticks": ""
           }
          },
          "colorscale": {
           "diverging": [
            [
             0,
             "#8e0152"
            ],
            [
             0.1,
             "#c51b7d"
            ],
            [
             0.2,
             "#de77ae"
            ],
            [
             0.3,
             "#f1b6da"
            ],
            [
             0.4,
             "#fde0ef"
            ],
            [
             0.5,
             "#f7f7f7"
            ],
            [
             0.6,
             "#e6f5d0"
            ],
            [
             0.7,
             "#b8e186"
            ],
            [
             0.8,
             "#7fbc41"
            ],
            [
             0.9,
             "#4d9221"
            ],
            [
             1,
             "#276419"
            ]
           ],
           "sequential": [
            [
             0,
             "#0d0887"
            ],
            [
             0.1111111111111111,
             "#46039f"
            ],
            [
             0.2222222222222222,
             "#7201a8"
            ],
            [
             0.3333333333333333,
             "#9c179e"
            ],
            [
             0.4444444444444444,
             "#bd3786"
            ],
            [
             0.5555555555555556,
             "#d8576b"
            ],
            [
             0.6666666666666666,
             "#ed7953"
            ],
            [
             0.7777777777777778,
             "#fb9f3a"
            ],
            [
             0.8888888888888888,
             "#fdca26"
            ],
            [
             1,
             "#f0f921"
            ]
           ],
           "sequentialminus": [
            [
             0,
             "#0d0887"
            ],
            [
             0.1111111111111111,
             "#46039f"
            ],
            [
             0.2222222222222222,
             "#7201a8"
            ],
            [
             0.3333333333333333,
             "#9c179e"
            ],
            [
             0.4444444444444444,
             "#bd3786"
            ],
            [
             0.5555555555555556,
             "#d8576b"
            ],
            [
             0.6666666666666666,
             "#ed7953"
            ],
            [
             0.7777777777777778,
             "#fb9f3a"
            ],
            [
             0.8888888888888888,
             "#fdca26"
            ],
            [
             1,
             "#f0f921"
            ]
           ]
          },
          "colorway": [
           "#636efa",
           "#EF553B",
           "#00cc96",
           "#ab63fa",
           "#FFA15A",
           "#19d3f3",
           "#FF6692",
           "#B6E880",
           "#FF97FF",
           "#FECB52"
          ],
          "font": {
           "color": "#2a3f5f"
          },
          "geo": {
           "bgcolor": "white",
           "lakecolor": "white",
           "landcolor": "#E5ECF6",
           "showlakes": true,
           "showland": true,
           "subunitcolor": "white"
          },
          "hoverlabel": {
           "align": "left"
          },
          "hovermode": "closest",
          "mapbox": {
           "style": "light"
          },
          "paper_bgcolor": "white",
          "plot_bgcolor": "#E5ECF6",
          "polar": {
           "angularaxis": {
            "gridcolor": "white",
            "linecolor": "white",
            "ticks": ""
           },
           "bgcolor": "#E5ECF6",
           "radialaxis": {
            "gridcolor": "white",
            "linecolor": "white",
            "ticks": ""
           }
          },
          "scene": {
           "xaxis": {
            "backgroundcolor": "#E5ECF6",
            "gridcolor": "white",
            "gridwidth": 2,
            "linecolor": "white",
            "showbackground": true,
            "ticks": "",
            "zerolinecolor": "white"
           },
           "yaxis": {
            "backgroundcolor": "#E5ECF6",
            "gridcolor": "white",
            "gridwidth": 2,
            "linecolor": "white",
            "showbackground": true,
            "ticks": "",
            "zerolinecolor": "white"
           },
           "zaxis": {
            "backgroundcolor": "#E5ECF6",
            "gridcolor": "white",
            "gridwidth": 2,
            "linecolor": "white",
            "showbackground": true,
            "ticks": "",
            "zerolinecolor": "white"
           }
          },
          "shapedefaults": {
           "line": {
            "color": "#2a3f5f"
           }
          },
          "ternary": {
           "aaxis": {
            "gridcolor": "white",
            "linecolor": "white",
            "ticks": ""
           },
           "baxis": {
            "gridcolor": "white",
            "linecolor": "white",
            "ticks": ""
           },
           "bgcolor": "#E5ECF6",
           "caxis": {
            "gridcolor": "white",
            "linecolor": "white",
            "ticks": ""
           }
          },
          "title": {
           "x": 0.05
          },
          "xaxis": {
           "automargin": true,
           "gridcolor": "white",
           "linecolor": "white",
           "ticks": "",
           "title": {
            "standoff": 15
           },
           "zerolinecolor": "white",
           "zerolinewidth": 2
          },
          "yaxis": {
           "automargin": true,
           "gridcolor": "white",
           "linecolor": "white",
           "ticks": "",
           "title": {
            "standoff": 15
           },
           "zerolinecolor": "white",
           "zerolinewidth": 2
          }
         }
        },
        "title": {
         "text": "p vs bags"
        },
        "xaxis": {
         "anchor": "y",
         "domain": [
          0,
          1
         ],
         "title": {
          "text": "p"
         }
        },
        "yaxis": {
         "anchor": "x",
         "domain": [
          0,
          1
         ],
         "title": {
          "text": "bags"
         }
        }
       }
      }
     },
     "metadata": {},
     "output_type": "display_data"
    },
    {
     "data": {
      "application/vnd.plotly.v1+json": {
       "config": {
        "plotlyServerURL": "https://plot.ly"
       },
       "data": [
        {
         "name": "bags",
         "type": "box",
         "y": [
          0.5,
          1,
          0.5,
          0.5,
          0.5,
          2,
          0.5,
          0.5,
          0.5,
          2,
          1,
          3,
          2,
          1,
          1,
          0.5,
          4,
          3,
          1,
          1,
          0.5,
          1,
          1,
          0.5,
          2,
          1,
          1,
          3,
          3,
          1,
          1,
          1,
          1,
          3,
          1,
          1,
          1,
          2,
          2,
          2,
          3,
          1.5,
          1.5,
          1,
          1.5,
          0.5,
          0.5,
          0.5,
          0.5,
          1.5,
          0.5,
          1.5,
          1.5,
          1,
          2,
          0.5,
          0.25,
          0.25,
          1,
          0.5,
          0.25,
          0.25,
          0.5,
          0.5,
          1.5,
          0.5,
          1.5,
          1.5,
          2,
          1.5,
          0.5,
          0.5,
          1,
          0.5,
          0.5,
          2,
          0.5,
          1,
          0.5,
          1.5,
          1,
          2.5,
          0.5,
          1,
          1,
          1,
          1,
          1,
          1,
          0.5,
          0.5,
          0.5,
          1.5,
          15,
          1,
          0.5,
          1,
          2,
          2,
          1.5,
          2.5,
          2,
          1.5,
          0.5,
          0.5,
          0.5,
          1,
          1,
          0.5,
          0.5,
          1,
          0.25,
          0.5,
          0.5,
          0.5,
          0.5,
          1,
          1.5,
          2,
          1,
          2,
          1,
          2,
          1.5,
          5,
          0.5,
          1,
          1,
          1,
          1,
          2,
          1,
          1,
          0.5,
          3,
          0.5,
          1,
          1,
          1,
          0.5,
          1,
          2,
          0.5,
          0.5,
          0.5,
          0.25,
          0.5,
          1.5,
          0.5,
          1.5,
          1,
          1,
          0.25,
          1,
          1.5,
          1.5,
          1.5,
          0.25,
          0.5,
          2,
          0.5,
          0.5,
          0.5,
          0.5,
          1,
          0.5,
          0.5,
          0.5,
          0.5,
          0.5,
          0.5,
          1.5,
          1,
          0.5,
          0.5,
          1,
          1,
          2,
          1,
          2,
          1.5,
          0.5,
          3,
          1.5,
          2,
          1.5,
          1.5,
          0.25,
          0.25,
          1,
          0.5,
          1,
          0.5,
          2.5,
          2.5,
          1.5,
          0.5,
          0.5,
          0.5,
          2.5,
          0.5,
          2,
          0.25,
          0.25,
          0.5,
          0.5,
          1,
          0.5,
          0.5,
          0.5,
          1,
          1,
          0.5,
          0.5,
          1,
          1,
          1,
          1,
          0.5,
          0.5,
          0.5,
          0.5,
          0.5,
          0.5,
          0.5,
          0.5,
          2,
          1,
          0.5,
          2,
          1,
          0.5,
          0.5,
          0.5,
          0.5,
          3,
          1.5,
          0.5,
          0.5,
          0.5,
          1,
          0.5,
          0.5,
          0.5,
          0.5,
          0.5,
          0.5,
          0.5,
          0.5,
          0.5,
          0.5,
          0.5,
          0.5,
          1.5,
          2,
          0.5,
          1.5,
          1,
          2,
          0.5,
          0.5,
          0.5,
          0.5,
          1,
          3,
          2.5,
          0.5,
          0.5,
          0.5,
          0.5,
          1,
          0.5,
          4,
          1.5,
          1,
          2.5,
          0.5,
          1,
          0.5,
          0.25,
          1.5,
          0.5,
          0.5,
          0.5,
          0.5,
          0.5,
          0.5,
          1.5,
          0.25,
          0.5,
          1.5,
          1.5,
          0.5,
          0.25,
          0.5,
          0.5,
          0.5,
          0.25,
          0.25,
          0.5,
          0.5,
          0.5,
          0.5,
          0.5,
          1,
          0.25,
          0.25,
          0.25,
          0.5,
          0.5,
          0.5,
          0.5,
          0.5,
          0.25,
          1,
          1.55,
          1.05,
          0.5,
          3,
          0.5,
          0.25,
          1,
          2,
          0.25,
          1,
          0.5,
          0.5,
          0.25,
          0.25,
          0.5,
          0.5,
          1,
          0.5,
          0.5,
          0.5,
          0.55,
          1,
          1,
          0.5,
          0.25,
          0.25,
          0.25,
          0.25,
          0.5,
          0.5,
          0.5,
          1,
          1,
          0.5,
          0.5,
          0.5,
          0.5,
          0.5,
          0.5,
          0.5,
          1,
          0.5,
          0.5,
          0.5,
          0.25,
          0.5,
          0.5,
          0.5,
          0.25,
          1,
          0.5,
          0.5,
          0.5,
          0.5,
          0.5,
          0.5,
          3.1,
          0.25,
          0.25,
          0.25,
          0.25,
          0.5,
          0.5,
          1,
          8,
          0.5,
          0.25,
          0.5,
          0.5,
          0.5,
          0.5,
          0.5,
          1,
          3.05,
          8,
          0.5,
          0.5,
          0.5,
          0.5,
          0.25,
          0.25,
          0.5,
          0.5,
          0.5,
          0.5,
          0.5,
          0.5,
          1,
          0.5,
          0.5,
          0.25,
          0.5,
          0.5,
          0.25,
          0.5,
          0.5,
          0.5,
          0.25,
          0.25,
          0.25,
          0.25,
          0.25,
          0.25,
          0.25,
          0.25,
          0.25,
          0.25,
          0.25,
          0.25,
          0.5,
          0.25,
          0.5,
          0.25,
          0.25,
          0.25,
          0.25,
          0.5,
          1,
          0.5,
          0.5,
          0.5,
          0.25,
          0.5,
          0.25,
          0.25,
          0.25,
          0.5,
          0.5,
          5.5,
          0.25,
          0.5,
          0.5,
          0.25,
          0.5,
          0.5,
          0.25,
          0.5,
          0.25,
          0.5,
          1,
          0.5,
          0.5,
          1,
          0.25,
          0.5,
          0.5,
          0.5,
          0.5,
          1,
          0.25,
          0.25,
          0.25,
          0.5,
          0.5,
          1,
          0.25,
          0.5,
          0.25,
          0.25,
          0.5,
          0.25,
          0.5,
          1.05,
          0.5,
          0.25,
          0.25,
          1,
          0.25,
          0.5,
          0.5,
          1,
          0.25,
          0.5,
          1,
          0.25,
          0.5,
          0.25,
          1,
          2,
          0.5,
          1,
          0.25,
          0.25,
          0.5,
          1,
          0.55,
          1,
          1,
          0.5,
          7,
          0.25,
          0.25,
          1.55,
          2.05,
          1,
          0.25,
          0.5,
          0.25,
          0.25,
          0.5,
          0.5,
          0.5,
          1,
          1,
          2,
          0.5,
          1,
          0.5,
          0.25,
          0.25,
          0.25,
          0.25,
          0.25,
          0.5,
          0.25,
          12,
          1.05,
          0.5,
          1,
          0.5,
          0.25,
          0.5,
          0.5,
          0.5,
          0.5,
          0.5,
          0.25,
          0.25,
          0.5,
          0.25,
          0.25,
          0.25,
          0.25,
          0.25,
          0.25,
          0.25,
          0.5,
          0.25,
          1,
          0.5,
          0.25,
          0.25,
          0.25,
          0.25,
          0.25,
          0.5,
          0.25,
          0.5,
          0.25,
          0.25,
          0.25,
          0.25,
          0.25,
          1,
          0.25,
          0.5,
          0.25,
          0.5,
          1,
          1,
          0.25,
          0.25,
          0.25,
          0.25,
          0.25,
          0.25,
          0.25,
          0.5,
          0.25,
          0.25,
          0.25,
          0.5,
          0.5,
          0.5,
          0.5,
          0.5,
          0.5,
          2,
          1,
          0.25,
          0.5,
          0.25,
          0.5,
          0.55,
          3,
          0.55,
          0.5,
          0.5,
          8,
          0.25,
          1,
          0.25,
          0.25,
          0.25,
          0.25,
          0.5,
          0.5,
          0.5,
          2,
          0.25,
          0.5,
          0.25,
          1,
          0.5,
          0.5,
          0.25,
          0.5,
          0.5,
          1,
          0.25,
          0.25,
          0.5,
          1,
          0.5,
          0.5,
          0.5,
          0.5,
          1,
          0.5,
          1,
          0.5,
          1,
          0.25,
          0.25,
          0.5,
          0.5,
          2,
          0.5,
          2
         ]
        }
       ],
       "layout": {
        "template": {
         "data": {
          "bar": [
           {
            "error_x": {
             "color": "#2a3f5f"
            },
            "error_y": {
             "color": "#2a3f5f"
            },
            "marker": {
             "line": {
              "color": "#E5ECF6",
              "width": 0.5
             },
             "pattern": {
              "fillmode": "overlay",
              "size": 10,
              "solidity": 0.2
             }
            },
            "type": "bar"
           }
          ],
          "barpolar": [
           {
            "marker": {
             "line": {
              "color": "#E5ECF6",
              "width": 0.5
             },
             "pattern": {
              "fillmode": "overlay",
              "size": 10,
              "solidity": 0.2
             }
            },
            "type": "barpolar"
           }
          ],
          "carpet": [
           {
            "aaxis": {
             "endlinecolor": "#2a3f5f",
             "gridcolor": "white",
             "linecolor": "white",
             "minorgridcolor": "white",
             "startlinecolor": "#2a3f5f"
            },
            "baxis": {
             "endlinecolor": "#2a3f5f",
             "gridcolor": "white",
             "linecolor": "white",
             "minorgridcolor": "white",
             "startlinecolor": "#2a3f5f"
            },
            "type": "carpet"
           }
          ],
          "choropleth": [
           {
            "colorbar": {
             "outlinewidth": 0,
             "ticks": ""
            },
            "type": "choropleth"
           }
          ],
          "contour": [
           {
            "colorbar": {
             "outlinewidth": 0,
             "ticks": ""
            },
            "colorscale": [
             [
              0,
              "#0d0887"
             ],
             [
              0.1111111111111111,
              "#46039f"
             ],
             [
              0.2222222222222222,
              "#7201a8"
             ],
             [
              0.3333333333333333,
              "#9c179e"
             ],
             [
              0.4444444444444444,
              "#bd3786"
             ],
             [
              0.5555555555555556,
              "#d8576b"
             ],
             [
              0.6666666666666666,
              "#ed7953"
             ],
             [
              0.7777777777777778,
              "#fb9f3a"
             ],
             [
              0.8888888888888888,
              "#fdca26"
             ],
             [
              1,
              "#f0f921"
             ]
            ],
            "type": "contour"
           }
          ],
          "contourcarpet": [
           {
            "colorbar": {
             "outlinewidth": 0,
             "ticks": ""
            },
            "type": "contourcarpet"
           }
          ],
          "heatmap": [
           {
            "colorbar": {
             "outlinewidth": 0,
             "ticks": ""
            },
            "colorscale": [
             [
              0,
              "#0d0887"
             ],
             [
              0.1111111111111111,
              "#46039f"
             ],
             [
              0.2222222222222222,
              "#7201a8"
             ],
             [
              0.3333333333333333,
              "#9c179e"
             ],
             [
              0.4444444444444444,
              "#bd3786"
             ],
             [
              0.5555555555555556,
              "#d8576b"
             ],
             [
              0.6666666666666666,
              "#ed7953"
             ],
             [
              0.7777777777777778,
              "#fb9f3a"
             ],
             [
              0.8888888888888888,
              "#fdca26"
             ],
             [
              1,
              "#f0f921"
             ]
            ],
            "type": "heatmap"
           }
          ],
          "heatmapgl": [
           {
            "colorbar": {
             "outlinewidth": 0,
             "ticks": ""
            },
            "colorscale": [
             [
              0,
              "#0d0887"
             ],
             [
              0.1111111111111111,
              "#46039f"
             ],
             [
              0.2222222222222222,
              "#7201a8"
             ],
             [
              0.3333333333333333,
              "#9c179e"
             ],
             [
              0.4444444444444444,
              "#bd3786"
             ],
             [
              0.5555555555555556,
              "#d8576b"
             ],
             [
              0.6666666666666666,
              "#ed7953"
             ],
             [
              0.7777777777777778,
              "#fb9f3a"
             ],
             [
              0.8888888888888888,
              "#fdca26"
             ],
             [
              1,
              "#f0f921"
             ]
            ],
            "type": "heatmapgl"
           }
          ],
          "histogram": [
           {
            "marker": {
             "pattern": {
              "fillmode": "overlay",
              "size": 10,
              "solidity": 0.2
             }
            },
            "type": "histogram"
           }
          ],
          "histogram2d": [
           {
            "colorbar": {
             "outlinewidth": 0,
             "ticks": ""
            },
            "colorscale": [
             [
              0,
              "#0d0887"
             ],
             [
              0.1111111111111111,
              "#46039f"
             ],
             [
              0.2222222222222222,
              "#7201a8"
             ],
             [
              0.3333333333333333,
              "#9c179e"
             ],
             [
              0.4444444444444444,
              "#bd3786"
             ],
             [
              0.5555555555555556,
              "#d8576b"
             ],
             [
              0.6666666666666666,
              "#ed7953"
             ],
             [
              0.7777777777777778,
              "#fb9f3a"
             ],
             [
              0.8888888888888888,
              "#fdca26"
             ],
             [
              1,
              "#f0f921"
             ]
            ],
            "type": "histogram2d"
           }
          ],
          "histogram2dcontour": [
           {
            "colorbar": {
             "outlinewidth": 0,
             "ticks": ""
            },
            "colorscale": [
             [
              0,
              "#0d0887"
             ],
             [
              0.1111111111111111,
              "#46039f"
             ],
             [
              0.2222222222222222,
              "#7201a8"
             ],
             [
              0.3333333333333333,
              "#9c179e"
             ],
             [
              0.4444444444444444,
              "#bd3786"
             ],
             [
              0.5555555555555556,
              "#d8576b"
             ],
             [
              0.6666666666666666,
              "#ed7953"
             ],
             [
              0.7777777777777778,
              "#fb9f3a"
             ],
             [
              0.8888888888888888,
              "#fdca26"
             ],
             [
              1,
              "#f0f921"
             ]
            ],
            "type": "histogram2dcontour"
           }
          ],
          "mesh3d": [
           {
            "colorbar": {
             "outlinewidth": 0,
             "ticks": ""
            },
            "type": "mesh3d"
           }
          ],
          "parcoords": [
           {
            "line": {
             "colorbar": {
              "outlinewidth": 0,
              "ticks": ""
             }
            },
            "type": "parcoords"
           }
          ],
          "pie": [
           {
            "automargin": true,
            "type": "pie"
           }
          ],
          "scatter": [
           {
            "fillpattern": {
             "fillmode": "overlay",
             "size": 10,
             "solidity": 0.2
            },
            "type": "scatter"
           }
          ],
          "scatter3d": [
           {
            "line": {
             "colorbar": {
              "outlinewidth": 0,
              "ticks": ""
             }
            },
            "marker": {
             "colorbar": {
              "outlinewidth": 0,
              "ticks": ""
             }
            },
            "type": "scatter3d"
           }
          ],
          "scattercarpet": [
           {
            "marker": {
             "colorbar": {
              "outlinewidth": 0,
              "ticks": ""
             }
            },
            "type": "scattercarpet"
           }
          ],
          "scattergeo": [
           {
            "marker": {
             "colorbar": {
              "outlinewidth": 0,
              "ticks": ""
             }
            },
            "type": "scattergeo"
           }
          ],
          "scattergl": [
           {
            "marker": {
             "colorbar": {
              "outlinewidth": 0,
              "ticks": ""
             }
            },
            "type": "scattergl"
           }
          ],
          "scattermapbox": [
           {
            "marker": {
             "colorbar": {
              "outlinewidth": 0,
              "ticks": ""
             }
            },
            "type": "scattermapbox"
           }
          ],
          "scatterpolar": [
           {
            "marker": {
             "colorbar": {
              "outlinewidth": 0,
              "ticks": ""
             }
            },
            "type": "scatterpolar"
           }
          ],
          "scatterpolargl": [
           {
            "marker": {
             "colorbar": {
              "outlinewidth": 0,
              "ticks": ""
             }
            },
            "type": "scatterpolargl"
           }
          ],
          "scatterternary": [
           {
            "marker": {
             "colorbar": {
              "outlinewidth": 0,
              "ticks": ""
             }
            },
            "type": "scatterternary"
           }
          ],
          "surface": [
           {
            "colorbar": {
             "outlinewidth": 0,
             "ticks": ""
            },
            "colorscale": [
             [
              0,
              "#0d0887"
             ],
             [
              0.1111111111111111,
              "#46039f"
             ],
             [
              0.2222222222222222,
              "#7201a8"
             ],
             [
              0.3333333333333333,
              "#9c179e"
             ],
             [
              0.4444444444444444,
              "#bd3786"
             ],
             [
              0.5555555555555556,
              "#d8576b"
             ],
             [
              0.6666666666666666,
              "#ed7953"
             ],
             [
              0.7777777777777778,
              "#fb9f3a"
             ],
             [
              0.8888888888888888,
              "#fdca26"
             ],
             [
              1,
              "#f0f921"
             ]
            ],
            "type": "surface"
           }
          ],
          "table": [
           {
            "cells": {
             "fill": {
              "color": "#EBF0F8"
             },
             "line": {
              "color": "white"
             }
            },
            "header": {
             "fill": {
              "color": "#C8D4E3"
             },
             "line": {
              "color": "white"
             }
            },
            "type": "table"
           }
          ]
         },
         "layout": {
          "annotationdefaults": {
           "arrowcolor": "#2a3f5f",
           "arrowhead": 0,
           "arrowwidth": 1
          },
          "autotypenumbers": "strict",
          "coloraxis": {
           "colorbar": {
            "outlinewidth": 0,
            "ticks": ""
           }
          },
          "colorscale": {
           "diverging": [
            [
             0,
             "#8e0152"
            ],
            [
             0.1,
             "#c51b7d"
            ],
            [
             0.2,
             "#de77ae"
            ],
            [
             0.3,
             "#f1b6da"
            ],
            [
             0.4,
             "#fde0ef"
            ],
            [
             0.5,
             "#f7f7f7"
            ],
            [
             0.6,
             "#e6f5d0"
            ],
            [
             0.7,
             "#b8e186"
            ],
            [
             0.8,
             "#7fbc41"
            ],
            [
             0.9,
             "#4d9221"
            ],
            [
             1,
             "#276419"
            ]
           ],
           "sequential": [
            [
             0,
             "#0d0887"
            ],
            [
             0.1111111111111111,
             "#46039f"
            ],
            [
             0.2222222222222222,
             "#7201a8"
            ],
            [
             0.3333333333333333,
             "#9c179e"
            ],
            [
             0.4444444444444444,
             "#bd3786"
            ],
            [
             0.5555555555555556,
             "#d8576b"
            ],
            [
             0.6666666666666666,
             "#ed7953"
            ],
            [
             0.7777777777777778,
             "#fb9f3a"
            ],
            [
             0.8888888888888888,
             "#fdca26"
            ],
            [
             1,
             "#f0f921"
            ]
           ],
           "sequentialminus": [
            [
             0,
             "#0d0887"
            ],
            [
             0.1111111111111111,
             "#46039f"
            ],
            [
             0.2222222222222222,
             "#7201a8"
            ],
            [
             0.3333333333333333,
             "#9c179e"
            ],
            [
             0.4444444444444444,
             "#bd3786"
            ],
            [
             0.5555555555555556,
             "#d8576b"
            ],
            [
             0.6666666666666666,
             "#ed7953"
            ],
            [
             0.7777777777777778,
             "#fb9f3a"
            ],
            [
             0.8888888888888888,
             "#fdca26"
            ],
            [
             1,
             "#f0f921"
            ]
           ]
          },
          "colorway": [
           "#636efa",
           "#EF553B",
           "#00cc96",
           "#ab63fa",
           "#FFA15A",
           "#19d3f3",
           "#FF6692",
           "#B6E880",
           "#FF97FF",
           "#FECB52"
          ],
          "font": {
           "color": "#2a3f5f"
          },
          "geo": {
           "bgcolor": "white",
           "lakecolor": "white",
           "landcolor": "#E5ECF6",
           "showlakes": true,
           "showland": true,
           "subunitcolor": "white"
          },
          "hoverlabel": {
           "align": "left"
          },
          "hovermode": "closest",
          "mapbox": {
           "style": "light"
          },
          "paper_bgcolor": "white",
          "plot_bgcolor": "#E5ECF6",
          "polar": {
           "angularaxis": {
            "gridcolor": "white",
            "linecolor": "white",
            "ticks": ""
           },
           "bgcolor": "#E5ECF6",
           "radialaxis": {
            "gridcolor": "white",
            "linecolor": "white",
            "ticks": ""
           }
          },
          "scene": {
           "xaxis": {
            "backgroundcolor": "#E5ECF6",
            "gridcolor": "white",
            "gridwidth": 2,
            "linecolor": "white",
            "showbackground": true,
            "ticks": "",
            "zerolinecolor": "white"
           },
           "yaxis": {
            "backgroundcolor": "#E5ECF6",
            "gridcolor": "white",
            "gridwidth": 2,
            "linecolor": "white",
            "showbackground": true,
            "ticks": "",
            "zerolinecolor": "white"
           },
           "zaxis": {
            "backgroundcolor": "#E5ECF6",
            "gridcolor": "white",
            "gridwidth": 2,
            "linecolor": "white",
            "showbackground": true,
            "ticks": "",
            "zerolinecolor": "white"
           }
          },
          "shapedefaults": {
           "line": {
            "color": "#2a3f5f"
           }
          },
          "ternary": {
           "aaxis": {
            "gridcolor": "white",
            "linecolor": "white",
            "ticks": ""
           },
           "baxis": {
            "gridcolor": "white",
            "linecolor": "white",
            "ticks": ""
           },
           "bgcolor": "#E5ECF6",
           "caxis": {
            "gridcolor": "white",
            "linecolor": "white",
            "ticks": ""
           }
          },
          "title": {
           "x": 0.05
          },
          "xaxis": {
           "automargin": true,
           "gridcolor": "white",
           "linecolor": "white",
           "ticks": "",
           "title": {
            "standoff": 15
           },
           "zerolinecolor": "white",
           "zerolinewidth": 2
          },
          "yaxis": {
           "automargin": true,
           "gridcolor": "white",
           "linecolor": "white",
           "ticks": "",
           "title": {
            "standoff": 15
           },
           "zerolinecolor": "white",
           "zerolinewidth": 2
          }
         }
        },
        "title": {
         "text": "Box Plot of bags"
        }
       }
      }
     },
     "metadata": {},
     "output_type": "display_data"
    }
   ],
   "source": [
    "# Check for missing values\n",
    "print(data.isnull().sum())\n",
    "\n",
    "# Interactive Histogram of 'bags'\n",
    "fig_hist = px.histogram(data, x='bags', nbins=20, title='Distribution of bags')\n",
    "fig_hist.show()\n",
    "\n",
    "# Interactive Scatter plot of 'p' vs 'bags'\n",
    "fig_scatter = px.scatter(data, x='p', y='bags', opacity=0.3, title='p vs bags')\n",
    "fig_scatter.show()\n",
    "\n",
    "# Interactive Box plot of 'bags'\n",
    "fig_box = go.Figure()\n",
    "fig_box.add_trace(go.Box(y=data['bags'], name='bags'))\n",
    "fig_box.update_layout(title='Box Plot of bags')\n",
    "fig_box.show()"
   ]
  },
  {
   "cell_type": "code",
   "execution_count": 14,
   "metadata": {},
   "outputs": [
    {
     "name": "stdout",
     "output_type": "stream",
     "text": [
      "     p  bags\n",
      "0  101   0.5\n",
      "1  102   1.0\n",
      "2  106   0.5\n",
      "3  107   0.5\n",
      "4  109   0.5\n",
      "<class 'pandas.core.frame.DataFrame'>\n",
      "RangeIndex: 644 entries, 0 to 643\n",
      "Data columns (total 2 columns):\n",
      " #   Column  Non-Null Count  Dtype  \n",
      "---  ------  --------------  -----  \n",
      " 0   p       644 non-null    int64  \n",
      " 1   bags    644 non-null    float64\n",
      "dtypes: float64(1), int64(1)\n",
      "memory usage: 10.2 KB\n",
      "None\n",
      "                 p        bags\n",
      "count   644.000000  644.000000\n",
      "mean    828.375776    0.865140\n",
      "std     466.929338    1.121281\n",
      "min     101.000000    0.250000\n",
      "25%     327.750000    0.500000\n",
      "50%    1057.500000    0.500000\n",
      "75%    1231.250000    1.000000\n",
      "max    1450.000000   15.000000\n",
      "p       0\n",
      "bags    0\n",
      "dtype: int64\n"
     ]
    },
    {
     "data": {
      "image/png": "[encoded data removed]",
      "text/plain": [
       "<Figure size 640x480 with 1 Axes>"
      ]
     },
     "metadata": {},
     "output_type": "display_data"
    },
    {
     "data": {
      "image/png": "[encoded data removed]",
      "text/plain": [
       "<Figure size 640x480 with 1 Axes>"
      ]
     },
     "metadata": {},
     "output_type": "display_data"
    },
    {
     "data": {
      "image/png": "[encoded data removed]",
      "text/plain": [
       "<Figure size 640x480 with 1 Axes>"
      ]
     },
     "metadata": {},
     "output_type": "display_data"
    }
   ],
   "source": [
    "\n",
    "print(data.info())\n",
    "print(data.describe())\n",
    "\n",
    "# Check for missing values\n",
    "print(data.isnull().sum())\n",
    "\n",
    "# Visualizations\n",
    "# Histogram of 'bags'\n",
    "plt.hist(data['bags'], bins=10)\n",
    "plt.xlabel('bags')\n",
    "plt.ylabel('Frequency')\n",
    "plt.title('Distribution of bags')\n",
    "plt.show()\n",
    "\n",
    "# Scatter plot of 'p' vs 'bags'\n",
    "plt.scatter(data['p'], data['bags'], alpha=.3)\n",
    "plt.xlabel('p')\n",
    "plt.ylabel('bags')\n",
    "plt.title('p vs bags')\n",
    "plt.show()\n",
    "\n",
    "# Box plot of 'bags'\n",
    "sns.boxplot(x=data['bags'])\n",
    "plt.title('Box Plot of bags')\n",
    "plt.show()"
   ]
  },
  {
   "cell_type": "code",
   "execution_count": null,
   "metadata": {},
   "outputs": [],
   "source": [
    "image_path = \"C:/Users/23742429/Desktop/segment-anything-main/data/train_images/train_images/p101.jpg\""
   ]
  },
  {
   "cell_type": "code",
   "execution_count": null,
   "metadata": {},
   "outputs": [],
   "source": [
    "import cv2\n",
    "import numpy as np\n",
    "\n",
    "def segment_red_patches(image_path):\n",
    "  \"\"\"\n",
    "  Segments red patches in an image.\n",
    "\n",
    "  Args:\n",
    "    image_path: Path to the image file.\n",
    "\n",
    "  Returns:\n",
    "    A binary mask where red patches are marked as 1.\n",
    "  \"\"\"\n",
    "\n",
    "  # Load the image\n",
    "  img = cv2.imread(image_path)\n",
    "\n",
    "  # Convert to HSV color space\n",
    "  hsv = cv2.cvtColor(img, cv2.COLOR_BGR2HSV)\n",
    "\n",
    "  # Define lower and upper bounds for red color in HSV\n",
    "  lower_red = np.array([0, 120, 70])\n",
    "  upper_red = np.array([10, 255, 255])\n",
    "\n",
    "  # Create a mask for red color\n",
    "  mask = cv2.inRange(hsv, lower_red, upper_red)\n",
    "\n",
    "  # Apply morphological operations to refine the mask (optional)\n",
    "  kernel = np.ones((5, 5), np.uint8)\n",
    "  mask = cv2.morphologyEx(mask, cv2.MORPH_OPEN, kernel)\n",
    "  mask = cv2.morphologyEx(mask, cv2.MORPH_CLOSE, kernel)\n",
    "\n",
    "  return mask\n",
    "\n",
    "# Example usage\n",
    "mask = segment_red_patches(image_path)\n",
    "\n",
    "# Display the mask\n",
    "cv2.imshow(\"Red Mask\", mask)\n",
    "cv2.waitKey(0)\n",
    "cv2.destroyAllWindows()"
   ]
  },
  {
   "cell_type": "code",
   "execution_count": null,
   "metadata": {},
   "outputs": [],
   "source": [
    "import cv2\n",
    "import numpy as np\n",
    "\n",
    "def segment_and_find_centroids(image_path):\n",
    "  \"\"\"\n",
    "  Segments red patches in an image and finds their centroids.\n",
    "\n",
    "  Args:\n",
    "    image_path: Path to the image file.\n",
    "\n",
    "  Returns:\n",
    "    A tuple of (centroids, mask, img) where:\n",
    "      - centroids: A list of (x, y) coordinates of the centroids.\n",
    "      - mask: The binary mask of red patches.\n",
    "      - img: The original image.\n",
    "  \"\"\"\n",
    "\n",
    "  # Load the image\n",
    "  img = cv2.imread(image_path)\n",
    "\n",
    "  # Convert to HSV color space\n",
    "  hsv = cv2.cvtColor(img, cv2.COLOR_BGR2HSV)\n",
    "\n",
    "  # Define lower and upper bounds for red color in HSV\n",
    "  lower_red = np.array([0, 120, 70])\n",
    "  upper_red = np.array([10, 255, 255])\n",
    "\n",
    "  # Create a mask for red color\n",
    "  mask = cv2.inRange(hsv, lower_red, upper_red)\n",
    "\n",
    "  # Apply morphological operations to refine the mask (optional)\n",
    "  kernel = np.ones((5, 5), np.uint8)\n",
    "  mask = cv2.morphologyEx(mask, cv2.MORPH_OPEN, kernel)\n",
    "  mask = cv2.morphologyEx(mask, cv2.MORPH_CLOSE, kernel)\n",
    "\n",
    "  # Find contours\n",
    "  contours, _ = cv2.findContours(mask, cv2.RETR_EXTERNAL, cv2.CHAIN_APPROX_SIMPLE)\n",
    "\n",
    "  # Find centroids\n",
    "  centroids = []\n",
    "  for cnt in contours:\n",
    "    M = cv2.moments(cnt)\n",
    "    if M[\"m00\"] != 0:\n",
    "      cx = int(M[\"m10\"] / M[\"m00\"])\n",
    "      cy = int(M[\"m01\"] / M[\"m00\"])\n",
    "      centroids.append((cx, cy))\n",
    "\n",
    "  return centroids, mask, img\n",
    "\n",
    "def visualize_centroids(centroids, mask, img):\n",
    "  \"\"\"\n",
    "  Visualizes the centroids on the original image.\n",
    "\n",
    "  Args:\n",
    "    centroids: A list of (x, y) coordinates of the centroids.\n",
    "    mask: The binary mask of red patches.\n",
    "    img: The original image.\n",
    "  \"\"\"\n",
    "\n",
    "  # Draw centroids on the image\n",
    "  for cx, cy in centroids:\n",
    "    cv2.circle(img, (cx, cy), 5, (0, 255, 0), -1)\n",
    "\n",
    "  # Display the image with centroids\n",
    "  cv2.imshow(\"Image with Centroids\", img)\n",
    "  cv2.waitKey(0)\n",
    "  cv2.destroyAllWindows()\n",
    "\n",
    "def calculate_euclidean_distance(centroids):\n",
    "  \"\"\"\n",
    "  Calculates the Euclidean distance between centroids.\n",
    "\n",
    "  Args:\n",
    "    centroids: A list of (x, y) coordinates of the centroids.\n",
    "\n",
    "  Returns:\n",
    "    A list of Euclidean distances between all pairs of centroids.\n",
    "  \"\"\"\n",
    "\n",
    "  import math\n",
    "\n",
    "  distances = []\n",
    "  for i in range(len(centroids)):\n",
    "    for j in range(i + 1, len(centroids)):\n",
    "      x1, y1 = centroids[i]\n",
    "      x2, y2 = centroids[j]\n",
    "      distance = math.sqrt((x2 - x1)**2 + (y2 - y1)**2)\n",
    "      distances.append(distance)\n",
    "  return distances\n",
    "\n",
    "# Example usage\n",
    "centroids, mask, img = segment_and_find_centroids(image_path)\n",
    "visualize_centroids(centroids, mask, img)"
   ]
  },
  {
   "cell_type": "code",
   "execution_count": null,
   "metadata": {},
   "outputs": [
    {
     "name": "stdout",
     "output_type": "stream",
     "text": [
      "Euclidean distances between centroids (in pixels): [261.6906570743404]\n"
     ]
    }
   ],
   "source": [
    "import cv2\n",
    "import numpy as np\n",
    "\n",
    "def segment_and_find_centroids(image_path):\n",
    "  \"\"\"\n",
    "  Segments red patches in an image and finds their centroids.\n",
    "\n",
    "  Args:\n",
    "    image_path: Path to the image file.\n",
    "\n",
    "  Returns:\n",
    "    A tuple of (centroids, mask, img) where:\n",
    "      - centroids: A list of (x, y) coordinates of the centroids.\n",
    "      - mask: The binary mask of red patches.\n",
    "      - img: The original image.\n",
    "  \"\"\"\n",
    "\n",
    "  # Load the image\n",
    "  img = cv2.imread(image_path)\n",
    "\n",
    "  # Convert to HSV color space\n",
    "  hsv = cv2.cvtColor(img, cv2.COLOR_BGR2HSV)\n",
    "\n",
    "  # Define lower and upper bounds for red color in HSV\n",
    "  lower_red = np.array([0, 120, 70])\n",
    "  upper_red = np.array([10, 255, 255])\n",
    "\n",
    "  # Create a mask for red color\n",
    "  mask = cv2.inRange(hsv, lower_red, upper_red)\n",
    "\n",
    "  # Apply morphological operations to refine the mask (optional)\n",
    "  kernel = np.ones((5, 5), np.uint8)\n",
    "  mask = cv2.morphologyEx(mask, cv2.MORPH_OPEN, kernel)\n",
    "  mask = cv2.morphologyEx(mask, cv2.MORPH_CLOSE, kernel)\n",
    "\n",
    "  # Find contours\n",
    "  contours, _ = cv2.findContours(mask, cv2.RETR_EXTERNAL, cv2.CHAIN_APPROX_SIMPLE)\n",
    "\n",
    "  # Find centroids\n",
    "  centroids = []\n",
    "  for cnt in contours:\n",
    "    M = cv2.moments(cnt)\n",
    "    if M[\"m00\"] != 0:\n",
    "      cx = int(M[\"m10\"] / M[\"m00\"])\n",
    "      cy = int(M[\"m01\"] / M[\"m00\"])\n",
    "      centroids.append((cx, cy))\n",
    "\n",
    "  return centroids, mask, img\n",
    "\n",
    "def visualize_centroids(centroids, mask, img):\n",
    "  \"\"\"\n",
    "  Visualizes the centroids on the original image.\n",
    "\n",
    "  Args:\n",
    "    centroids: A list of (x, y) coordinates of the centroids.\n",
    "    mask: The binary mask of red patches.\n",
    "    img: The original image.\n",
    "  \"\"\"\n",
    "\n",
    "  # Draw centroids on the image\n",
    "  for cx, cy in centroids:\n",
    "    cv2.circle(img, (cx, cy), 5, (0, 255, 0), -1)\n",
    "\n",
    "  # Display the image with centroids\n",
    "  cv2.imshow(\"Image with Centroids\", img)\n",
    "  cv2.waitKey(0)\n",
    "  cv2.destroyAllWindows()\n",
    "\n",
    "def calculate_euclidean_distance(centroids):\n",
    "  \"\"\"\n",
    "  Calculates the Euclidean distance between centroids.\n",
    "\n",
    "  Args:\n",
    "    centroids: A list of (x, y) coordinates of the centroids.\n",
    "\n",
    "  Returns:\n",
    "    A list of Euclidean distances between all pairs of centroids.\n",
    "  \"\"\"\n",
    "\n",
    "  import math\n",
    "\n",
    "  distances = []\n",
    "  for i in range(len(centroids)):\n",
    "    for j in range(i + 1, len(centroids)):\n",
    "      x1, y1 = centroids[i]\n",
    "      x2, y2 = centroids[j]\n",
    "      distance = math.sqrt((x2 - x1)**2 + (y2 - y1)**2)\n",
    "      distances.append(distance)\n",
    "  return distances\n",
    "\n",
    "# Example usage\n",
    "# image_path = \"your_image.jpg\"\n",
    "centroids, mask, img = segment_and_find_centroids(image_path)\n",
    "visualize_centroids(centroids, mask, img)\n",
    "\n",
    "distances = calculate_euclidean_distance(centroids)\n",
    "print(\"Euclidean distances between centroids (in pixels):\", distances)"
   ]
  },
  {
   "cell_type": "code",
   "execution_count": null,
   "metadata": {},
   "outputs": [
    {
     "ename": "error",
     "evalue": "OpenCV(4.10.0) D:\\a\\opencv-python\\opencv-python\\opencv\\modules\\imgproc\\src\\color.cpp:196: error: (-215:Assertion failed) !_src.empty() in function 'cv::cvtColor'\n",
     "output_type": "error",
     "traceback": [
      "\u001b[1;31m---------------------------------------------------------------------------\u001b[0m",
      "\u001b[1;31merror\u001b[0m                                     Traceback (most recent call last)",
      "Cell \u001b[1;32mIn[31], line 98\u001b[0m\n\u001b[0;32m     95\u001b[0m output_image_path \u001b[38;5;241m=\u001b[39m \u001b[38;5;124mf\u001b[39m\u001b[38;5;124m\"\u001b[39m\u001b[38;5;124m2c_\u001b[39m\u001b[38;5;132;01m{\u001b[39;00mos\u001b[38;5;241m.\u001b[39mpath\u001b[38;5;241m.\u001b[39mbasename(image_path)\u001b[38;5;132;01m}\u001b[39;00m\u001b[38;5;124m\"\u001b[39m\n\u001b[0;32m     96\u001b[0m output_text_file \u001b[38;5;241m=\u001b[39m \u001b[38;5;124mf\u001b[39m\u001b[38;5;124m\"\u001b[39m\u001b[38;5;124m2c_\u001b[39m\u001b[38;5;132;01m{\u001b[39;00mos\u001b[38;5;241m.\u001b[39mpath\u001b[38;5;241m.\u001b[39mbasename(image_path)\u001b[38;5;132;01m}\u001b[39;00m\u001b[38;5;124m.txt\u001b[39m\u001b[38;5;124m\"\u001b[39m\n\u001b[1;32m---> 98\u001b[0m centroids, mask, img \u001b[38;5;241m=\u001b[39m \u001b[43msegment_and_find_centroids\u001b[49m\u001b[43m(\u001b[49m\u001b[43mimage_path\u001b[49m\u001b[43m)\u001b[49m\n\u001b[0;32m     99\u001b[0m visualize_centroids(centroids, mask, img, output_image_path)\n\u001b[0;32m    100\u001b[0m calculate_euclidean_distance(centroids, output_text_file)\n",
      "Cell \u001b[1;32mIn[31], line 23\u001b[0m, in \u001b[0;36msegment_and_find_centroids\u001b[1;34m(image_path)\u001b[0m\n\u001b[0;32m     20\u001b[0m img \u001b[38;5;241m=\u001b[39m cv2\u001b[38;5;241m.\u001b[39mimread(image_path)\n\u001b[0;32m     22\u001b[0m \u001b[38;5;66;03m# Convert to HSV color space\u001b[39;00m\n\u001b[1;32m---> 23\u001b[0m hsv \u001b[38;5;241m=\u001b[39m \u001b[43mcv2\u001b[49m\u001b[38;5;241;43m.\u001b[39;49m\u001b[43mcvtColor\u001b[49m\u001b[43m(\u001b[49m\u001b[43mimg\u001b[49m\u001b[43m,\u001b[49m\u001b[43m \u001b[49m\u001b[43mcv2\u001b[49m\u001b[38;5;241;43m.\u001b[39;49m\u001b[43mCOLOR_BGR2HSV\u001b[49m\u001b[43m)\u001b[49m\n\u001b[0;32m     25\u001b[0m \u001b[38;5;66;03m# Define lower and upper bounds for red color in HSV\u001b[39;00m\n\u001b[0;32m     26\u001b[0m lower_red \u001b[38;5;241m=\u001b[39m np\u001b[38;5;241m.\u001b[39marray([\u001b[38;5;241m0\u001b[39m, \u001b[38;5;241m120\u001b[39m, \u001b[38;5;241m70\u001b[39m])\n",
      "\u001b[1;31merror\u001b[0m: OpenCV(4.10.0) D:\\a\\opencv-python\\opencv-python\\opencv\\modules\\imgproc\\src\\color.cpp:196: error: (-215:Assertion failed) !_src.empty() in function 'cv::cvtColor'\n"
     ]
    }
   ],
   "source": [
    "import cv2\n",
    "import numpy as np\n",
    "import os\n",
    "\n",
    "def segment_and_find_centroids(image_path):\n",
    "  \"\"\"\n",
    "  Segments red patches in an image and finds their centroids.\n",
    "\n",
    "  Args:\n",
    "    image_path: Path to the image file.\n",
    "\n",
    "  Returns:\n",
    "    A tuple of (centroids, mask, img) where:\n",
    "      - centroids: A list of (x, y) coordinates of the centroids.\n",
    "      - mask: The binary mask of red patches.\n",
    "      - img: The original image.\n",
    "  \"\"\"\n",
    "\n",
    "  # Load the image\n",
    "  img = cv2.imread(image_path)\n",
    "\n",
    "  # Convert to HSV color space\n",
    "  hsv = cv2.cvtColor(img, cv2.COLOR_BGR2HSV)\n",
    "\n",
    "  # Define lower and upper bounds for red color in HSV\n",
    "  lower_red = np.array([0, 120, 70])\n",
    "  upper_red = np.array([10, 255, 255])\n",
    "\n",
    "  # Create a mask for red color\n",
    "  mask = cv2.inRange(hsv, lower_red, upper_red)\n",
    "\n",
    "  # Apply morphological operations to refine the mask (optional)\n",
    "  kernel = np.ones((5, 5), np.uint8)\n",
    "  mask = cv2.morphologyEx(mask, cv2.MORPH_OPEN, kernel)\n",
    "  mask = cv2.morphologyEx(mask, cv2.MORPH_CLOSE, kernel)\n",
    "\n",
    "  # Find contours\n",
    "  contours, _ = cv2.findContours(mask, cv2.RETR_EXTERNAL, cv2.CHAIN_APPROX_SIMPLE)\n",
    "\n",
    "  # Find centroids\n",
    "  centroids = []\n",
    "  for cnt in contours:\n",
    "    M = cv2.moments(cnt)\n",
    "    if M[\"m00\"] != 0:\n",
    "      cx = int(M[\"m10\"] / M[\"m00\"])\n",
    "      cy = int(M[\"m01\"] / M[\"m00\"])\n",
    "      centroids.append((cx, cy))\n",
    "\n",
    "  return centroids, mask, img\n",
    "\n",
    "def visualize_centroids(centroids, mask, img, output_path):\n",
    "  \"\"\"\n",
    "  Visualizes the centroids on the original image and saves it as a new image.\n",
    "\n",
    "  Args:\n",
    "    centroids: A list of (x, y) coordinates of the centroids.\n",
    "    mask: The binary mask of red patches.\n",
    "    img: The original image.\n",
    "    output_path: The path to save the output image.\n",
    "  \"\"\"\n",
    "\n",
    "  # Draw centroids on the image\n",
    "  for cx, cy in centroids:\n",
    "    cv2.circle(img, (cx, cy), 5, (0, 255, 0), -1)\n",
    "\n",
    "  # Save the image with centroids\n",
    "  cv2.imwrite(output_path, img)\n",
    "\n",
    "def calculate_euclidean_distance(centroids, output_file):\n",
    "  \"\"\"\n",
    "  Calculates the Euclidean distance between centroids and writes it to a text file.\n",
    "\n",
    "  Args:\n",
    "    centroids: A list of (x, y) coordinates of the centroids.\n",
    "    output_file: The path to save the output text file.\n",
    "  \"\"\"\n",
    "\n",
    "  import math\n",
    "\n",
    "  distances = []\n",
    "  for i in range(len(centroids)):\n",
    "    for j in range(i + 1, len(centroids)):\n",
    "      x1, y1 = centroids[i]\n",
    "      x2, y2 = centroids[j]\n",
    "      distance = math.sqrt((x2 - x1)**2 + (y2 - y1)**2)\n",
    "      distances.append(distance)\n",
    "\n",
    "  with open(output_file, \"w\") as f:\n",
    "    f.write(f\"Filename: {os.path.basename(image_path)}\\n\")\n",
    "    f.write(f\"Centroids: {centroids}\\n\")\n",
    "    f.write(f\"Euclidean distances (pixels): {distances}\\n\")\n",
    "\n",
    "# Example usage\n",
    "output_image_path = f\"2c_{os.path.basename(image_path)}\"\n",
    "output_text_file = f\"2c_{os.path.basename(image_path)}.txt\"\n",
    "\n",
    "centroids, mask, img = segment_and_find_centroids(image_path)\n",
    "visualize_centroids(centroids, mask, img, output_image_path)\n",
    "calculate_euclidean_distance(centroids, output_text_file)"
   ]
  }
 ],
 "metadata": {
  "kernelspec": {
   "display_name": "Python 3",
   "language": "python",
   "name": "python3"
  },
  "language_info": {
   "codemirror_mode": {
    "name": "ipython",
    "version": 3
   },
   "file_extension": ".py",
   "mimetype": "text/x-python",
   "name": "python",
   "nbconvert_exporter": "python",
   "pygments_lexer": "ipython3",
   "version": "3.11.7"
  }
 },
 "nbformat": 4,
 "nbformat_minor": 2
}
